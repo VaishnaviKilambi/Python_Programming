{
 "cells": [
  {
   "cell_type": "markdown",
   "id": "173b7e58",
   "metadata": {},
   "source": [
    "# DICTIONARIES"
   ]
  },
  {
   "cell_type": "markdown",
   "id": "747385fa",
   "metadata": {},
   "source": [
    "A dictionary stores a collection of key-value pairs, where key and value are Python objects. Each key is associated with a value so that a value can be conveniently retrieved, inserted, modified, or deleted given a particular key."
   ]
  },
  {
   "cell_type": "markdown",
   "id": "547fc1fd",
   "metadata": {},
   "source": [
    "You can access, insert, or set elements using the same syntax as for accessing elements of a list or tuple:"
   ]
  },
  {
   "cell_type": "code",
   "execution_count": 2,
   "id": "4fc27045",
   "metadata": {},
   "outputs": [
    {
     "data": {
      "text/plain": [
       "{'a': 'some value', 'b': [1, 2, 3, 4]}"
      ]
     },
     "execution_count": 2,
     "metadata": {},
     "output_type": "execute_result"
    }
   ],
   "source": [
    "d1 = {\"a\": \"some value\", \"b\": [1, 2, 3, 4]}\n",
    "d1"
   ]
  },
  {
   "cell_type": "code",
   "execution_count": 3,
   "id": "6c2589fd",
   "metadata": {},
   "outputs": [],
   "source": [
    "d1[7] = \"an integer\""
   ]
  },
  {
   "cell_type": "code",
   "execution_count": 4,
   "id": "40c12973",
   "metadata": {},
   "outputs": [
    {
     "data": {
      "text/plain": [
       "{'a': 'some value', 'b': [1, 2, 3, 4], 7: 'an integer'}"
      ]
     },
     "execution_count": 4,
     "metadata": {},
     "output_type": "execute_result"
    }
   ],
   "source": [
    "d1"
   ]
  },
  {
   "cell_type": "code",
   "execution_count": 5,
   "id": "4567e04a",
   "metadata": {},
   "outputs": [
    {
     "data": {
      "text/plain": [
       "True"
      ]
     },
     "execution_count": 5,
     "metadata": {},
     "output_type": "execute_result"
    }
   ],
   "source": [
    "\"b\" in d1"
   ]
  },
  {
   "cell_type": "code",
   "execution_count": 9,
   "id": "a9988f3b",
   "metadata": {},
   "outputs": [
    {
     "data": {
      "text/plain": [
       "{'a': 'some value',\n",
       " 'b': [1, 2, 3, 4],\n",
       " 7: 'an integer',\n",
       " 'dummy': 'another value'}"
      ]
     },
     "execution_count": 9,
     "metadata": {},
     "output_type": "execute_result"
    }
   ],
   "source": [
    "d1[\"dummy\"] = \"another value\"\n",
    "d1"
   ]
  },
  {
   "cell_type": "markdown",
   "id": "fc9f81cd",
   "metadata": {},
   "source": [
    "# Delete and Pop method"
   ]
  },
  {
   "cell_type": "code",
   "execution_count": 12,
   "id": "b2f82873",
   "metadata": {},
   "outputs": [],
   "source": [
    "#delete using del keyword or pop method\n",
    "del d1['b']"
   ]
  },
  {
   "cell_type": "code",
   "execution_count": 13,
   "id": "51bf81ad",
   "metadata": {},
   "outputs": [
    {
     "data": {
      "text/plain": [
       "{'a': 'some value', 7: 'an integer', 'dummy': 'another value'}"
      ]
     },
     "execution_count": 13,
     "metadata": {},
     "output_type": "execute_result"
    }
   ],
   "source": [
    "d1"
   ]
  },
  {
   "cell_type": "code",
   "execution_count": 14,
   "id": "07420be3",
   "metadata": {},
   "outputs": [
    {
     "data": {
      "text/plain": [
       "'an integer'"
      ]
     },
     "execution_count": 14,
     "metadata": {},
     "output_type": "execute_result"
    }
   ],
   "source": [
    "d1.pop(7)"
   ]
  },
  {
   "cell_type": "code",
   "execution_count": 15,
   "id": "89b8fc1b",
   "metadata": {},
   "outputs": [
    {
     "data": {
      "text/plain": [
       "{'a': 'some value', 'dummy': 'another value'}"
      ]
     },
     "execution_count": 15,
     "metadata": {},
     "output_type": "execute_result"
    }
   ],
   "source": [
    "d1"
   ]
  },
  {
   "cell_type": "markdown",
   "id": "2b52919e",
   "metadata": {},
   "source": [
    "The keys and values method gives you iterators of the dictionary's keys and values, respectively. The order of the keys depends on the order of their insertion, and these functions output the keys and values in the same respective order"
   ]
  },
  {
   "cell_type": "markdown",
   "id": "b08bbdbe",
   "metadata": {},
   "source": [
    "# Update method"
   ]
  },
  {
   "cell_type": "code",
   "execution_count": 20,
   "id": "edfa739a",
   "metadata": {},
   "outputs": [
    {
     "data": {
      "text/plain": [
       "dict_items([('a', 'some value'), ('dummy', 'another value')])"
      ]
     },
     "execution_count": 20,
     "metadata": {},
     "output_type": "execute_result"
    }
   ],
   "source": [
    "d1.items()"
   ]
  },
  {
   "cell_type": "code",
   "execution_count": 21,
   "id": "cbcf27f8",
   "metadata": {},
   "outputs": [
    {
     "data": {
      "text/plain": [
       "dict_keys(['a', 'dummy'])"
      ]
     },
     "execution_count": 21,
     "metadata": {},
     "output_type": "execute_result"
    }
   ],
   "source": [
    "d1.keys()"
   ]
  },
  {
   "cell_type": "code",
   "execution_count": 22,
   "id": "cb05d6f1",
   "metadata": {},
   "outputs": [
    {
     "data": {
      "text/plain": [
       "dict_values(['some value', 'another value'])"
      ]
     },
     "execution_count": 22,
     "metadata": {},
     "output_type": "execute_result"
    }
   ],
   "source": [
    "d1.values()"
   ]
  },
  {
   "cell_type": "markdown",
   "id": "ee15fc71",
   "metadata": {},
   "source": [
    "You can again put these values into lists to view them. Python dictionary (since v3.6) keep the key values in the order they were inserted"
   ]
  },
  {
   "cell_type": "code",
   "execution_count": 24,
   "id": "49820f18",
   "metadata": {},
   "outputs": [
    {
     "data": {
      "text/plain": [
       "{'a': 'some value', 'dummy': 'another value', 'b': 'foo', 'c': 12}"
      ]
     },
     "execution_count": 24,
     "metadata": {},
     "output_type": "execute_result"
    }
   ],
   "source": [
    "#Merge one dictionary to other using update method\n",
    "#Updates over write pre-existing keys\n",
    "d1.update({\"b\": \"foo\", \"c\": 12})\n",
    "d1"
   ]
  },
  {
   "cell_type": "code",
   "execution_count": 60,
   "id": "8360b1ba",
   "metadata": {},
   "outputs": [
    {
     "data": {
      "text/plain": [
       "{'lm': 'ranga'}"
      ]
     },
     "execution_count": 60,
     "metadata": {},
     "output_type": "execute_result"
    }
   ],
   "source": [
    "d1[\"lm\"] = 'ranga'\n",
    "d1"
   ]
  },
  {
   "cell_type": "code",
   "execution_count": null,
   "id": "a5979611",
   "metadata": {},
   "outputs": [],
   "source": [
    "#Remember to save the value!!!"
   ]
  },
  {
   "cell_type": "code",
   "execution_count": 61,
   "id": "969fda8b",
   "metadata": {},
   "outputs": [
    {
     "name": "stdout",
     "output_type": "stream",
     "text": [
      "{'name': 'john', 'email': 'john@email.com', 'id': 1234, 'major': 'Engineering'}\n"
     ]
    }
   ],
   "source": [
    "my_dict = {\n",
    "    'name': 'john',\n",
    "    'email': 'john@email.com',\n",
    "    'id': 1234,\n",
    "    'major': 'Engineering'\n",
    "}\n",
    "my_dict | {'Graduate Year': 2024}\n",
    "\n",
    "print(my_dict)"
   ]
  },
  {
   "cell_type": "code",
   "execution_count": 62,
   "id": "7da7197c",
   "metadata": {},
   "outputs": [
    {
     "name": "stdout",
     "output_type": "stream",
     "text": [
      "{'name': 'john', 'email': 'john@email.com', 'id': 1234, 'major': 'Engineering', 'Graduate Year': 2024}\n"
     ]
    }
   ],
   "source": [
    "#Adding a key value pair and saving it\n",
    "my_dict = {\n",
    "    'name': 'john',\n",
    "    'email': 'john@email.com',\n",
    "    'id': 1234,\n",
    "    'major': 'Engineering'\n",
    "}\n",
    "my_dict |= {'Graduate Year': 2024}\n",
    "\n",
    "print(my_dict)"
   ]
  },
  {
   "cell_type": "markdown",
   "id": "a290fcd9",
   "metadata": {},
   "source": [
    "# Some more methods"
   ]
  },
  {
   "cell_type": "code",
   "execution_count": 25,
   "id": "115b0bb5",
   "metadata": {},
   "outputs": [],
   "source": [
    "d1.clear() ## empty dict"
   ]
  },
  {
   "cell_type": "code",
   "execution_count": 26,
   "id": "7c9d381d",
   "metadata": {},
   "outputs": [],
   "source": [
    "d2 = {'a': 'some value', 'dummy': 'another value', 'b': 'foo', 'c': 12}"
   ]
  },
  {
   "cell_type": "code",
   "execution_count": 27,
   "id": "6c7fb3c3",
   "metadata": {},
   "outputs": [
    {
     "data": {
      "text/plain": [
       "{'a': 'some value', 'dummy': 'another value', 'b': 'foo', 'c': 12}"
      ]
     },
     "execution_count": 27,
     "metadata": {},
     "output_type": "execute_result"
    }
   ],
   "source": [
    "d2"
   ]
  },
  {
   "cell_type": "code",
   "execution_count": 28,
   "id": "2b5d30c9",
   "metadata": {},
   "outputs": [
    {
     "data": {
      "text/plain": [
       "{'a': 'some value', 'dummy': 'another value', 'b': 'foo', 'c': 12}"
      ]
     },
     "execution_count": 28,
     "metadata": {},
     "output_type": "execute_result"
    }
   ],
   "source": [
    "d2.copy() # Shallow copy"
   ]
  },
  {
   "cell_type": "code",
   "execution_count": 29,
   "id": "b72a1f94",
   "metadata": {},
   "outputs": [
    {
     "name": "stdout",
     "output_type": "stream",
     "text": [
      "{1: False, 2: [3, 4, 5]} {1: True, 2: [3, 4, 5]}\n"
     ]
    }
   ],
   "source": [
    "x = {1: True, 2: [3, 4, 5]}\n",
    "y = x.copy()\n",
    "x[1] = False\n",
    "print(x, y)"
   ]
  },
  {
   "cell_type": "code",
   "execution_count": 30,
   "id": "5e6edf5e",
   "metadata": {},
   "outputs": [
    {
     "name": "stdout",
     "output_type": "stream",
     "text": [
      "{1: True, 2: [3, 4, 5, 6]} {1: True, 2: [3, 4, 5, 6]}\n"
     ]
    }
   ],
   "source": [
    "x = {1: True, 2: [3, 4, 5]}\n",
    "y = x.copy()\n",
    "x[2].append(6)\n",
    "print(x, y)"
   ]
  },
  {
   "cell_type": "code",
   "execution_count": 31,
   "id": "0ff773ee",
   "metadata": {},
   "outputs": [
    {
     "name": "stdout",
     "output_type": "stream",
     "text": [
      "{1: True, 2: [3, 4, 5, 6]} {1: True, 2: [3, 4, 5]}\n"
     ]
    }
   ],
   "source": [
    "#Create a deep copy using the copy module\n",
    "import copy\n",
    "x = {1: True, 2: [3, 4, 5]}\n",
    "y = copy.deepcopy(x)\n",
    "x[2].append(6)\n",
    "print(x, y)"
   ]
  },
  {
   "cell_type": "markdown",
   "id": "1df346db",
   "metadata": {},
   "source": [
    "In Python, both copy and deepcopy are functions provided by the copy module for creating copies of objects. However, they differ in how they handle nested objects and mutability. Here's an explanation of the difference between copy and deepcopy:\n",
    "\n",
    "**copy:** The copy function creates a shallow copy of an object. It creates a new object with the same contents as the original object, but the contents themselves are not recursively copied. If the object contains references to other objects (e.g., nested lists or dictionaries), those references are copied instead of creating new copies of the referenced objects. As a result, changes to nested objects in the copy may affect the original object and vice versa.\n",
    "\n",
    "**deepcopy:** The deepcopy function creates a deep copy of an object. It recursively creates new copies of all nested objects within the original object. This means that a completely independent copy of the original object and all its nested objects is created. Changes made to the copy or its nested objects will not affect the original object or its nested objects.\n",
    "\n",
    "In the example, the shallow copy (shallow_copy) creates a new list object but shares the nested list with the original list. Therefore, modifying the nested list in the shallow copy also affects the original list.\n",
    "\n",
    "On the other hand, the deep copy (deep_copy) creates a completely independent copy of the original list, including a new copy of the nested list. Modifying the nested list in the deep copy does not affect the original list.\n",
    "\n",
    "So, the choice between copy and deepcopy depends on the specific use case and the desired behavior for nested objects and their mutability."
   ]
  },
  {
   "cell_type": "markdown",
   "id": "4ad75892",
   "metadata": {},
   "source": [
    "# Creating dictionaries using sequences and initial values"
   ]
  },
  {
   "cell_type": "markdown",
   "id": "f386446f",
   "metadata": {},
   "source": [
    "mapping = {}\n",
    "for key, value in zip(key_list, value_list):\n",
    "    mapping[key] = value"
   ]
  },
  {
   "cell_type": "raw",
   "id": "aa3554dd",
   "metadata": {},
   "source": [
    "mapping = {}\n",
    "for key, value in zip(key_list, value_list):\n",
    "    mapping[key] = value"
   ]
  },
  {
   "cell_type": "code",
   "execution_count": 34,
   "id": "6529bbab",
   "metadata": {},
   "outputs": [
    {
     "data": {
      "text/plain": [
       "{0: 4, 1: 3, 2: 2, 3: 1, 4: 0}"
      ]
     },
     "execution_count": 34,
     "metadata": {},
     "output_type": "execute_result"
    }
   ],
   "source": [
    "tuples = zip(range(5), reversed(range(5)))\n",
    "mapping = dict(tuples)\n",
    "mapping"
   ]
  },
  {
   "cell_type": "code",
   "execution_count": 35,
   "id": "03427e06",
   "metadata": {},
   "outputs": [],
   "source": [
    "#Essentially dictionary is a collection of 2 tuples, so it accepts a list of two tuples"
   ]
  },
  {
   "cell_type": "code",
   "execution_count": 38,
   "id": "61e4a72f",
   "metadata": {},
   "outputs": [
    {
     "data": {
      "text/plain": [
       "{0: 'iammissing',\n",
       " 1: 'iammissing',\n",
       " 2: 'iammissing',\n",
       " 3: 'iammissing',\n",
       " 4: 'iammissing'}"
      ]
     },
     "execution_count": 38,
     "metadata": {},
     "output_type": "execute_result"
    }
   ],
   "source": [
    "new_student = {}.fromkeys(\n",
    "    ['name', 'email', 'id', 'major'], 'missing')\n",
    "my_dict = {}.fromkeys(range(5), 'iammissing')\n",
    "my_dict"
   ]
  },
  {
   "cell_type": "markdown",
   "id": "58a547dd",
   "metadata": {},
   "source": [
    "# Getting a value"
   ]
  },
  {
   "cell_type": "markdown",
   "id": "619fa6a7",
   "metadata": {},
   "source": [
    "If a key does not exist and you try to access it, Python will raise an error. Instead, you can use the get() method to safely get the value, meaning it will return None if the key does not exist. The default is None for missing key, but you can override that."
   ]
  },
  {
   "cell_type": "raw",
   "id": "55e520e9",
   "metadata": {},
   "source": [
    "if key in some_dict:\n",
    "    value = some_dict[key]\n",
    "else:\n",
    "    value = default_value\n",
    "\n",
    "The above if else statement can simply be written as \n",
    "\n",
    "value = some_dict.get(key, default_value)"
   ]
  },
  {
   "cell_type": "code",
   "execution_count": 39,
   "id": "cf411221",
   "metadata": {},
   "outputs": [
    {
     "data": {
      "text/plain": [
       "'john'"
      ]
     },
     "execution_count": 39,
     "metadata": {},
     "output_type": "execute_result"
    }
   ],
   "source": [
    "my_dict = {\n",
    "    'name': 'john',\n",
    "    'email': 'john@email.com',\n",
    "    'id': 1234,\n",
    "    'major': 'Engineering'\n",
    "}\n",
    "my_dict.get('name', None) # default\n",
    "my_dict.get('name', False)\n",
    "my_dict.get('name', 'defaultname')"
   ]
  },
  {
   "cell_type": "markdown",
   "id": "2da1322d",
   "metadata": {},
   "source": [
    "get by default will return None if the key is not present, while pop will raise an exception. With setting values, it may be that the values in a dictionary are another kind of collection, like a list. For example, you could imagine categorizing a list of words by their first letters as a dictionary of lists:"
   ]
  },
  {
   "cell_type": "code",
   "execution_count": 51,
   "id": "32480e16",
   "metadata": {},
   "outputs": [
    {
     "data": {
      "text/plain": [
       "{'a': ['apple', 'atom'], 'b': ['bat', 'bar', 'book']}"
      ]
     },
     "execution_count": 51,
     "metadata": {},
     "output_type": "execute_result"
    }
   ],
   "source": [
    "words = [\"apple\", \"bat\", \"bar\", \"atom\", \"book\"]\n",
    "\n",
    "by_letter = {}\n",
    "\n",
    "for word in words:\n",
    "    letter = word[0]\n",
    "    if letter not in by_letter:\n",
    "        by_letter[letter] = [word]\n",
    "    else:\n",
    "        by_letter[letter].append(word)\n",
    "        \n",
    "by_letter"
   ]
  },
  {
   "cell_type": "code",
   "execution_count": 52,
   "id": "c8b4bc58",
   "metadata": {},
   "outputs": [],
   "source": [
    "#setdefault dictionary method"
   ]
  },
  {
   "cell_type": "code",
   "execution_count": 55,
   "id": "5390de6d",
   "metadata": {},
   "outputs": [
    {
     "data": {
      "text/plain": [
       "{'a': ['apple', 'atom'], 'b': ['bat', 'bar', 'book']}"
      ]
     },
     "execution_count": 55,
     "metadata": {},
     "output_type": "execute_result"
    }
   ],
   "source": [
    "words = [\"apple\", \"bat\", \"bar\", \"atom\", \"book\"]\n",
    "\n",
    "dictionary = {}\n",
    "for word in words:\n",
    "    letter = word[0]\n",
    "    dictionary.setdefault(letter, []).append(word)\n",
    "    \n",
    "dictionary"
   ]
  },
  {
   "cell_type": "markdown",
   "id": "df51ab12",
   "metadata": {},
   "source": [
    "The built-in collections module has a useful class, defaultdict, which makes this even easier. To create one, you pass a type or function for generating the default value for each slot in the dictionary:"
   ]
  },
  {
   "cell_type": "code",
   "execution_count": 56,
   "id": "12334605",
   "metadata": {},
   "outputs": [],
   "source": [
    "from collections import defaultdict\n",
    "\n",
    "by_letter = defaultdict(list)\n",
    "\n",
    "for word in words:\n",
    "    by_letter[word[0]].append(word)"
   ]
  },
  {
   "cell_type": "code",
   "execution_count": 40,
   "id": "de4c4f81",
   "metadata": {},
   "outputs": [],
   "source": [
    "#Removing values in a dictionary"
   ]
  },
  {
   "cell_type": "code",
   "execution_count": 41,
   "id": "fb6ffd00",
   "metadata": {},
   "outputs": [
    {
     "data": {
      "text/plain": [
       "'john'"
      ]
     },
     "execution_count": 41,
     "metadata": {},
     "output_type": "execute_result"
    }
   ],
   "source": [
    "my_dict = {\n",
    "    'name': 'john',\n",
    "    'email': 'john@email.com',\n",
    "    'id': 1234,\n",
    "    'major': 'Engineering'\n",
    "}\n",
    "my_dict.pop('name')"
   ]
  },
  {
   "cell_type": "code",
   "execution_count": 43,
   "id": "dc266bdc",
   "metadata": {},
   "outputs": [
    {
     "data": {
      "text/plain": [
       "{'email': 'john@email.com', 'id': 1234, 'major': 'Engineering'}"
      ]
     },
     "execution_count": 43,
     "metadata": {},
     "output_type": "execute_result"
    }
   ],
   "source": [
    "my_dict = {\n",
    "    'name': 'john',\n",
    "    'email': 'john@email.com',\n",
    "    'id': 1234,\n",
    "    'major': 'Engineering'\n",
    "}\n",
    "del my_dict['name']\n",
    "my_dict"
   ]
  },
  {
   "cell_type": "code",
   "execution_count": null,
   "id": "8497098a",
   "metadata": {},
   "outputs": [],
   "source": [
    "#What happens when you try to remove a key that does not exist?"
   ]
  },
  {
   "cell_type": "code",
   "execution_count": 44,
   "id": "1dfdd56e",
   "metadata": {},
   "outputs": [
    {
     "ename": "KeyError",
     "evalue": "'rank'",
     "output_type": "error",
     "traceback": [
      "\u001b[0;31m---------------------------------------------------------------------------\u001b[0m",
      "\u001b[0;31mKeyError\u001b[0m                                  Traceback (most recent call last)",
      "\u001b[0;32m/var/folders/0r/_568dtlx1ksbtyyp1djps8j80000gn/T/ipykernel_72271/3273903487.py\u001b[0m in \u001b[0;36m<module>\u001b[0;34m\u001b[0m\n\u001b[0;32m----> 1\u001b[0;31m \u001b[0mmy_dict\u001b[0m\u001b[0;34m.\u001b[0m\u001b[0mpop\u001b[0m\u001b[0;34m(\u001b[0m\u001b[0;34m'rank'\u001b[0m\u001b[0;34m)\u001b[0m\u001b[0;34m\u001b[0m\u001b[0;34m\u001b[0m\u001b[0m\n\u001b[0m",
      "\u001b[0;31mKeyError\u001b[0m: 'rank'"
     ]
    }
   ],
   "source": [
    "my_dict.pop('rank')"
   ]
  },
  {
   "cell_type": "code",
   "execution_count": 45,
   "id": "53d0c59c",
   "metadata": {},
   "outputs": [
    {
     "ename": "KeyError",
     "evalue": "'rank'",
     "output_type": "error",
     "traceback": [
      "\u001b[0;31m---------------------------------------------------------------------------\u001b[0m",
      "\u001b[0;31mKeyError\u001b[0m                                  Traceback (most recent call last)",
      "\u001b[0;32m/var/folders/0r/_568dtlx1ksbtyyp1djps8j80000gn/T/ipykernel_72271/3454374758.py\u001b[0m in \u001b[0;36m<module>\u001b[0;34m\u001b[0m\n\u001b[0;32m----> 1\u001b[0;31m \u001b[0;32mdel\u001b[0m \u001b[0mmy_dict\u001b[0m\u001b[0;34m[\u001b[0m\u001b[0;34m'rank'\u001b[0m\u001b[0;34m]\u001b[0m\u001b[0;34m\u001b[0m\u001b[0;34m\u001b[0m\u001b[0m\n\u001b[0m",
      "\u001b[0;31mKeyError\u001b[0m: 'rank'"
     ]
    }
   ],
   "source": [
    "del my_dict['rank']"
   ]
  },
  {
   "cell_type": "code",
   "execution_count": 48,
   "id": "79ffbeee",
   "metadata": {},
   "outputs": [
    {
     "name": "stdout",
     "output_type": "stream",
     "text": [
      "None\n"
     ]
    }
   ],
   "source": [
    "y = my_dict.get('rank')\n",
    "print(y)"
   ]
  },
  {
   "cell_type": "code",
   "execution_count": 58,
   "id": "53acb927",
   "metadata": {},
   "outputs": [
    {
     "data": {
      "text/plain": [
       "('major', 'Engineering')"
      ]
     },
     "execution_count": 58,
     "metadata": {},
     "output_type": "execute_result"
    }
   ],
   "source": [
    "#Removing Last Item from the Dictionary\n",
    "my_dict.popitem()"
   ]
  },
  {
   "cell_type": "markdown",
   "id": "705d8596",
   "metadata": {},
   "source": [
    "# Handling Missing values"
   ]
  },
  {
   "cell_type": "code",
   "execution_count": 63,
   "id": "0a1ee96b",
   "metadata": {},
   "outputs": [],
   "source": [
    "#Say you need to update a key but you do not know if it exists, how would you do it?"
   ]
  },
  {
   "cell_type": "code",
   "execution_count": 77,
   "id": "613beb75",
   "metadata": {},
   "outputs": [
    {
     "data": {
      "text/plain": [
       "{'LoginCount': 1}"
      ]
     },
     "execution_count": 77,
     "metadata": {},
     "output_type": "execute_result"
    }
   ],
   "source": [
    "my_dict = {'LoginCount': 0}\n",
    "my_dict['LoginCount'] += 1\n",
    "my_dict"
   ]
  },
  {
   "cell_type": "code",
   "execution_count": 65,
   "id": "f456e3ab",
   "metadata": {},
   "outputs": [],
   "source": [
    "my_dict = {'Grades': []}\n",
    "my_dict['Grades'].append(3)"
   ]
  },
  {
   "cell_type": "code",
   "execution_count": 75,
   "id": "30f871d6",
   "metadata": {},
   "outputs": [
    {
     "data": {
      "text/plain": [
       "{'LoginCount': 1}"
      ]
     },
     "execution_count": 75,
     "metadata": {},
     "output_type": "execute_result"
    }
   ],
   "source": [
    "my_dict = {}\n",
    "if 'LoginCount' not in my_dict:\n",
    "    my_dict['LoginCount'] =  0\n",
    "my_dict['LoginCount'] = 1\n",
    "my_dict"
   ]
  },
  {
   "cell_type": "code",
   "execution_count": 69,
   "id": "0531f5dd",
   "metadata": {},
   "outputs": [],
   "source": [
    "my_dict = {}\n",
    "if 'Grades' not in my_dict:\n",
    "    my_dict['Grades'] =  []\n",
    "my_dict['Grades'].append(3)"
   ]
  },
  {
   "cell_type": "code",
   "execution_count": 70,
   "id": "d6d497e4",
   "metadata": {},
   "outputs": [],
   "source": [
    "#A better way when you know the data type is defaultdict"
   ]
  },
  {
   "cell_type": "code",
   "execution_count": 71,
   "id": "125e4cb1",
   "metadata": {},
   "outputs": [],
   "source": [
    "from collections import defaultdict\n",
    "my_dict = defaultdict(int)\n",
    "my_dict['LoginCount'] += 1"
   ]
  },
  {
   "cell_type": "code",
   "execution_count": 72,
   "id": "1fa999dd",
   "metadata": {},
   "outputs": [],
   "source": [
    "from collections import defaultdict\n",
    "my_dict = defaultdict(list)\n",
    "my_dict['Grades'].append(3)"
   ]
  },
  {
   "cell_type": "markdown",
   "id": "cfc62bfc",
   "metadata": {},
   "source": [
    "# Counting"
   ]
  },
  {
   "cell_type": "code",
   "execution_count": 78,
   "id": "11e3645f",
   "metadata": {},
   "outputs": [
    {
     "data": {
      "text/plain": [
       "Counter({0: 1, 31: 7, 28: 1, 30: 4})"
      ]
     },
     "execution_count": 78,
     "metadata": {},
     "output_type": "execute_result"
    }
   ],
   "source": [
    "from collections import Counter\n",
    "days_in_months = [0, 31, 28, 31, 30, 31, 30, 31, 31, 30, 31, 30, 31]\n",
    "\n",
    "Counter(days_in_months)"
   ]
  },
  {
   "cell_type": "markdown",
   "id": "cdb0554d",
   "metadata": {},
   "source": [
    "# Hashability"
   ]
  },
  {
   "cell_type": "markdown",
   "id": "06718d9c",
   "metadata": {},
   "source": [
    "While the values of a dictionary can be any Python object, the keys generally have to be immutable objects like scalar types (int, float, string) or tuples (all the objects in the tuple need to be immutable, too). The technical term here is hashability. You can check whether an object is hashable (can be used as a key in a dictionary) with the hash function:\n"
   ]
  },
  {
   "cell_type": "code",
   "execution_count": 79,
   "id": "72d53784",
   "metadata": {},
   "outputs": [
    {
     "data": {
      "text/plain": [
       "5026301790609045092"
      ]
     },
     "execution_count": 79,
     "metadata": {},
     "output_type": "execute_result"
    }
   ],
   "source": [
    "hash(\"string\")"
   ]
  },
  {
   "cell_type": "code",
   "execution_count": 80,
   "id": "5a4c3139",
   "metadata": {},
   "outputs": [
    {
     "ename": "TypeError",
     "evalue": "unhashable type: 'list'",
     "output_type": "error",
     "traceback": [
      "\u001b[0;31m---------------------------------------------------------------------------\u001b[0m",
      "\u001b[0;31mTypeError\u001b[0m                                 Traceback (most recent call last)",
      "\u001b[0;32m/var/folders/0r/_568dtlx1ksbtyyp1djps8j80000gn/T/ipykernel_72271/1767385392.py\u001b[0m in \u001b[0;36m<module>\u001b[0;34m\u001b[0m\n\u001b[0;32m----> 1\u001b[0;31m \u001b[0mhash\u001b[0m\u001b[0;34m(\u001b[0m\u001b[0;34m(\u001b[0m\u001b[0;36m1\u001b[0m\u001b[0;34m,\u001b[0m \u001b[0;36m2\u001b[0m\u001b[0;34m,\u001b[0m \u001b[0;34m[\u001b[0m\u001b[0;36m2\u001b[0m\u001b[0;34m,\u001b[0m \u001b[0;36m3\u001b[0m\u001b[0;34m]\u001b[0m\u001b[0;34m)\u001b[0m\u001b[0;34m)\u001b[0m \u001b[0;31m# fails because lists are mutable\u001b[0m\u001b[0;34m\u001b[0m\u001b[0;34m\u001b[0m\u001b[0m\n\u001b[0m",
      "\u001b[0;31mTypeError\u001b[0m: unhashable type: 'list'"
     ]
    }
   ],
   "source": [
    "hash((1, 2, [2, 3])) # fails because lists are mutable"
   ]
  },
  {
   "cell_type": "code",
   "execution_count": 81,
   "id": "2e92a4f2",
   "metadata": {},
   "outputs": [
    {
     "data": {
      "text/plain": [
       "-9209053662355515447"
      ]
     },
     "execution_count": 81,
     "metadata": {},
     "output_type": "execute_result"
    }
   ],
   "source": [
    "hash((1, 2, (2, 3)))"
   ]
  },
  {
   "cell_type": "markdown",
   "id": "309deb0b",
   "metadata": {},
   "source": [
    "The hash values you see when using the hash function in general will depend on the Python version you are using.\n",
    "\n",
    "To use a list as a key, one option is to convert it to a tuple, which can be hashed as long as its elements also can be:"
   ]
  },
  {
   "cell_type": "code",
   "execution_count": 82,
   "id": "77c63417",
   "metadata": {},
   "outputs": [
    {
     "data": {
      "text/plain": [
       "{(1, 2, 3): 5}"
      ]
     },
     "execution_count": 82,
     "metadata": {},
     "output_type": "execute_result"
    }
   ],
   "source": [
    "d = {}\n",
    "d[tuple([1, 2, 3])] = 5\n",
    "d"
   ]
  },
  {
   "cell_type": "code",
   "execution_count": 83,
   "id": "1f92ff32",
   "metadata": {},
   "outputs": [
    {
     "data": {
      "text/plain": [
       "{1: 2, 3: 4}"
      ]
     },
     "execution_count": 83,
     "metadata": {},
     "output_type": "execute_result"
    }
   ],
   "source": [
    "#Hashing also works for dictionary to remove duplicates\n",
    "\n",
    "d = {1:2,3:4,1:2,3:4}\n",
    "d"
   ]
  }
 ],
 "metadata": {
  "kernelspec": {
   "display_name": "Python 3 (ipykernel)",
   "language": "python",
   "name": "python3"
  },
  "language_info": {
   "codemirror_mode": {
    "name": "ipython",
    "version": 3
   },
   "file_extension": ".py",
   "mimetype": "text/x-python",
   "name": "python",
   "nbconvert_exporter": "python",
   "pygments_lexer": "ipython3",
   "version": "3.9.13"
  }
 },
 "nbformat": 4,
 "nbformat_minor": 5
}
