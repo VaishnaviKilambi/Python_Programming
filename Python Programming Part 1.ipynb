{
 "cells": [
  {
   "cell_type": "markdown",
   "id": "d5813a6a",
   "metadata": {},
   "source": [
    "#Covering basic python (Basic to Intermediate level python notes)\n",
    "1. Data types\n",
    "2. Loops\n",
    "3. Functions\n",
    "4. Data structures\n",
    "5. Algorithms"
   ]
  },
  {
   "cell_type": "markdown",
   "id": "fd569ca5",
   "metadata": {},
   "source": [
    "Sources :\n",
    "    \n",
    "    1. https://wesmckinney.com/book/python-builtin.html\n",
    "    2. https://mkzia.github.io/eas503-book/chapters/05/lists.html\n",
    "    3. https://www.geeksforgeeks.org/python-programming-language/\n",
    "    4. UC Berkeley D-lab workshops\n",
    "    5. chatgpt to work on some notes"
   ]
  },
  {
   "cell_type": "code",
   "execution_count": null,
   "id": "b48fd055",
   "metadata": {},
   "outputs": [],
   "source": []
  },
  {
   "cell_type": "markdown",
   "id": "d5dd9888",
   "metadata": {},
   "source": [
    "# Tuples and Strings"
   ]
  },
  {
   "cell_type": "code",
   "execution_count": 2,
   "id": "dff44a19",
   "metadata": {},
   "outputs": [],
   "source": [
    "s = 'I am Vaishnavi'"
   ]
  },
  {
   "cell_type": "code",
   "execution_count": null,
   "id": "75b7a0b7",
   "metadata": {},
   "outputs": [],
   "source": [
    "nested_tup"
   ]
  },
  {
   "cell_type": "code",
   "execution_count": 3,
   "id": "bf84788e",
   "metadata": {},
   "outputs": [
    {
     "data": {
      "text/plain": [
       "['I', 'am', 'Vaishnavi']"
      ]
     },
     "execution_count": 3,
     "metadata": {},
     "output_type": "execute_result"
    }
   ],
   "source": [
    "s.split()"
   ]
  },
  {
   "cell_type": "code",
   "execution_count": 4,
   "id": "d6241b63",
   "metadata": {},
   "outputs": [
    {
     "data": {
      "text/plain": [
       "['I', 'am', 'Vaishnavi']"
      ]
     },
     "execution_count": 4,
     "metadata": {},
     "output_type": "execute_result"
    }
   ],
   "source": [
    "s.split(' ')"
   ]
  },
  {
   "cell_type": "code",
   "execution_count": 5,
   "id": "43ceb503",
   "metadata": {},
   "outputs": [],
   "source": [
    "s2 = 'I am @sravnath @here house@ 345'"
   ]
  },
  {
   "cell_type": "code",
   "execution_count": 6,
   "id": "dd046b5c",
   "metadata": {},
   "outputs": [
    {
     "data": {
      "text/plain": [
       "['I am ', 'sravnath ', 'here house', ' 345']"
      ]
     },
     "execution_count": 6,
     "metadata": {},
     "output_type": "execute_result"
    }
   ],
   "source": [
    "s2.split('@')"
   ]
  },
  {
   "cell_type": "code",
   "execution_count": 8,
   "id": "751612b0",
   "metadata": {},
   "outputs": [
    {
     "data": {
      "text/plain": [
       "list"
      ]
     },
     "execution_count": 8,
     "metadata": {},
     "output_type": "execute_result"
    }
   ],
   "source": [
    "type([])"
   ]
  },
  {
   "cell_type": "code",
   "execution_count": 9,
   "id": "80830070",
   "metadata": {},
   "outputs": [
    {
     "data": {
      "text/plain": [
       "'I_am_@sravnath_@here_house@_345'"
      ]
     },
     "execution_count": 9,
     "metadata": {},
     "output_type": "execute_result"
    }
   ],
   "source": [
    "s2.replace(' ','_')"
   ]
  },
  {
   "cell_type": "code",
   "execution_count": 3,
   "id": "520ef917",
   "metadata": {},
   "outputs": [
    {
     "data": {
      "text/plain": [
       "'I am Vaishnavi'"
      ]
     },
     "execution_count": 3,
     "metadata": {},
     "output_type": "execute_result"
    }
   ],
   "source": [
    "s"
   ]
  },
  {
   "cell_type": "code",
   "execution_count": 26,
   "id": "f126cdcd",
   "metadata": {},
   "outputs": [],
   "source": [
    "# s[7] = 'a'"
   ]
  },
  {
   "cell_type": "code",
   "execution_count": 14,
   "id": "dec1665f",
   "metadata": {},
   "outputs": [
    {
     "data": {
      "text/plain": [
       "'I am Vaishnavi sahira sahira'"
      ]
     },
     "execution_count": 14,
     "metadata": {},
     "output_type": "execute_result"
    }
   ],
   "source": [
    "s = s + ' sahira'\n",
    "s"
   ]
  },
  {
   "cell_type": "code",
   "execution_count": 25,
   "id": "8d4bf06d",
   "metadata": {},
   "outputs": [],
   "source": [
    "# s[0] = 'U'"
   ]
  },
  {
   "cell_type": "code",
   "execution_count": 16,
   "id": "85db4baf",
   "metadata": {},
   "outputs": [],
   "source": [
    "t = (1,2,3,4,5)"
   ]
  },
  {
   "cell_type": "code",
   "execution_count": 18,
   "id": "0184f682",
   "metadata": {},
   "outputs": [
    {
     "data": {
      "text/plain": [
       "tuple"
      ]
     },
     "execution_count": 18,
     "metadata": {},
     "output_type": "execute_result"
    }
   ],
   "source": [
    "type(t)"
   ]
  },
  {
   "cell_type": "code",
   "execution_count": 1,
   "id": "6f697524",
   "metadata": {},
   "outputs": [],
   "source": [
    "tup = 4, 5, 6"
   ]
  },
  {
   "cell_type": "code",
   "execution_count": 2,
   "id": "c60f8bcc",
   "metadata": {},
   "outputs": [
    {
     "data": {
      "text/plain": [
       "(4, 5, 6)"
      ]
     },
     "execution_count": 2,
     "metadata": {},
     "output_type": "execute_result"
    }
   ],
   "source": [
    "tup"
   ]
  },
  {
   "cell_type": "code",
   "execution_count": 3,
   "id": "6a31cd82",
   "metadata": {},
   "outputs": [],
   "source": [
    "list = 4, 5, 6"
   ]
  },
  {
   "cell_type": "code",
   "execution_count": 4,
   "id": "85c0cd2e",
   "metadata": {},
   "outputs": [
    {
     "data": {
      "text/plain": [
       "(4, 5, 6)"
      ]
     },
     "execution_count": 4,
     "metadata": {},
     "output_type": "execute_result"
    }
   ],
   "source": [
    "list"
   ]
  },
  {
   "cell_type": "code",
   "execution_count": 5,
   "id": "ab7f4e32",
   "metadata": {},
   "outputs": [],
   "source": [
    "tup = tuple(['foo', [1, 2], True])"
   ]
  },
  {
   "cell_type": "code",
   "execution_count": 6,
   "id": "d438e213",
   "metadata": {},
   "outputs": [
    {
     "data": {
      "text/plain": [
       "('foo', [1, 2], True)"
      ]
     },
     "execution_count": 6,
     "metadata": {},
     "output_type": "execute_result"
    }
   ],
   "source": [
    "tup"
   ]
  },
  {
   "cell_type": "code",
   "execution_count": 9,
   "id": "1fae4aa5",
   "metadata": {},
   "outputs": [],
   "source": [
    "tup[1][0] = 4"
   ]
  },
  {
   "cell_type": "code",
   "execution_count": 10,
   "id": "9f470d2a",
   "metadata": {},
   "outputs": [
    {
     "data": {
      "text/plain": [
       "('foo', [4, 2], True)"
      ]
     },
     "execution_count": 10,
     "metadata": {},
     "output_type": "execute_result"
    }
   ],
   "source": [
    "tup"
   ]
  },
  {
   "cell_type": "code",
   "execution_count": 11,
   "id": "4ac0eee0",
   "metadata": {},
   "outputs": [],
   "source": [
    "tup[1].append(2)"
   ]
  },
  {
   "cell_type": "code",
   "execution_count": 12,
   "id": "0ad478d2",
   "metadata": {},
   "outputs": [
    {
     "data": {
      "text/plain": [
       "('foo', [4, 2, 2], True)"
      ]
     },
     "execution_count": 12,
     "metadata": {},
     "output_type": "execute_result"
    }
   ],
   "source": [
    "tup"
   ]
  },
  {
   "cell_type": "code",
   "execution_count": 13,
   "id": "8b3b7d61",
   "metadata": {},
   "outputs": [
    {
     "data": {
      "text/plain": [
       "('foo', 'bar', 'foo', 'bar', 'foo', 'bar', 'foo', 'bar')"
      ]
     },
     "execution_count": 13,
     "metadata": {},
     "output_type": "execute_result"
    }
   ],
   "source": [
    "('foo', 'bar') * 4"
   ]
  },
  {
   "cell_type": "code",
   "execution_count": 14,
   "id": "40b61974",
   "metadata": {},
   "outputs": [],
   "source": [
    "tup = 4, 5, (6, 7)"
   ]
  },
  {
   "cell_type": "code",
   "execution_count": 23,
   "id": "b5abdbe2",
   "metadata": {},
   "outputs": [
    {
     "ename": "ValueError",
     "evalue": "not enough values to unpack (expected 4, got 3)",
     "output_type": "error",
     "traceback": [
      "\u001b[0;31m---------------------------------------------------------------------------\u001b[0m",
      "\u001b[0;31mValueError\u001b[0m                                Traceback (most recent call last)",
      "\u001b[0;32m/var/folders/0r/_568dtlx1ksbtyyp1djps8j80000gn/T/ipykernel_58352/3303848785.py\u001b[0m in \u001b[0;36m<module>\u001b[0;34m\u001b[0m\n\u001b[0;32m----> 1\u001b[0;31m \u001b[0ma\u001b[0m\u001b[0;34m,\u001b[0m\u001b[0mb\u001b[0m\u001b[0;34m,\u001b[0m\u001b[0md\u001b[0m\u001b[0;34m,\u001b[0m\u001b[0;34m(\u001b[0m\u001b[0mc\u001b[0m\u001b[0;34m)\u001b[0m \u001b[0;34m=\u001b[0m \u001b[0mtup\u001b[0m\u001b[0;34m\u001b[0m\u001b[0;34m\u001b[0m\u001b[0m\n\u001b[0m",
      "\u001b[0;31mValueError\u001b[0m: not enough values to unpack (expected 4, got 3)"
     ]
    }
   ],
   "source": [
    "a,b,d,(c) = tup"
   ]
  },
  {
   "cell_type": "code",
   "execution_count": 24,
   "id": "4788b7bd",
   "metadata": {},
   "outputs": [],
   "source": [
    "#Unpacking by iterating over a sequences of tuples or lists\n",
    "seq = [(1, 2, 3), (4, 5, 6), (7, 8, 9)]"
   ]
  },
  {
   "cell_type": "code",
   "execution_count": 28,
   "id": "0ec881fa",
   "metadata": {},
   "outputs": [
    {
     "name": "stdout",
     "output_type": "stream",
     "text": [
      "a=1, b=2, c=3\n",
      "a=4, b=5, c=6\n",
      "a=7, b=8, c=9\n"
     ]
    }
   ],
   "source": [
    "for a, b, c in seq:\n",
    "     print(f'a={a}, b={b}, c={c}')"
   ]
  },
  {
   "cell_type": "markdown",
   "id": "fd4a3715",
   "metadata": {},
   "source": [
    "# LISTS"
   ]
  },
  {
   "cell_type": "code",
   "execution_count": null,
   "id": "ac03d73f",
   "metadata": {},
   "outputs": [],
   "source": [
    "#List methods"
   ]
  },
  {
   "cell_type": "markdown",
   "id": "b0b7b15f",
   "metadata": {},
   "source": [
    "Python Lists are just like dynamically sized arrays, declared in other languages (vector in C++ and ArrayList in Java). In simple language, a list is a collection of things, enclosed in [ ] and separated by commas."
   ]
  },
  {
   "cell_type": "markdown",
   "id": "ee0cc43a",
   "metadata": {},
   "source": [
    "Lists are the simplest containers that are an integral part of the Python language. Lists need not be homogeneous always which makes it the most powerful tool in Python. A single list may contain DataTypes like Integers, Strings, as well as Objects. Lists are mutable, and hence, they can be altered even after their creation."
   ]
  },
  {
   "cell_type": "markdown",
   "id": "ee78ca0a",
   "metadata": {},
   "source": [
    "Complexities for Creating Lists\n",
    "\n",
    "Time Complexity: O(1)\n",
    "\n",
    "Space Complexity: O(n)"
   ]
  },
  {
   "cell_type": "code",
   "execution_count": 36,
   "id": "8c4fff50",
   "metadata": {},
   "outputs": [],
   "source": [
    "gen = range(7)"
   ]
  },
  {
   "cell_type": "code",
   "execution_count": 37,
   "id": "50531b1c",
   "metadata": {},
   "outputs": [
    {
     "data": {
      "text/plain": [
       "range(0, 7)"
      ]
     },
     "execution_count": 37,
     "metadata": {},
     "output_type": "execute_result"
    }
   ],
   "source": [
    "gen"
   ]
  },
  {
   "cell_type": "code",
   "execution_count": 39,
   "id": "57b15458",
   "metadata": {},
   "outputs": [
    {
     "data": {
      "text/plain": [
       "5"
      ]
     },
     "execution_count": 39,
     "metadata": {},
     "output_type": "execute_result"
    }
   ],
   "source": [
    "gen[5]"
   ]
  },
  {
   "cell_type": "code",
   "execution_count": 40,
   "id": "529a6676",
   "metadata": {},
   "outputs": [
    {
     "data": {
      "text/plain": [
       "range"
      ]
     },
     "execution_count": 40,
     "metadata": {},
     "output_type": "execute_result"
    }
   ],
   "source": [
    "type(gen)"
   ]
  },
  {
   "cell_type": "code",
   "execution_count": 42,
   "id": "c8001bf9",
   "metadata": {},
   "outputs": [
    {
     "data": {
      "text/plain": [
       "[0, 1, 2, 3, 4, 5, 6]"
      ]
     },
     "execution_count": 42,
     "metadata": {},
     "output_type": "execute_result"
    }
   ],
   "source": [
    "[x for x in gen]"
   ]
  },
  {
   "cell_type": "code",
   "execution_count": 19,
   "id": "d6c9cd99",
   "metadata": {},
   "outputs": [
    {
     "data": {
      "text/plain": [
       "(6, 7)"
      ]
     },
     "execution_count": 19,
     "metadata": {},
     "output_type": "execute_result"
    }
   ],
   "source": [
    "c"
   ]
  },
  {
   "cell_type": "code",
   "execution_count": null,
   "id": "b1cca488",
   "metadata": {},
   "outputs": [],
   "source": [
    "#List methods\n",
    "#append\n",
    "#insert"
   ]
  },
  {
   "cell_type": "code",
   "execution_count": 57,
   "id": "07b5f930",
   "metadata": {},
   "outputs": [
    {
     "data": {
      "text/plain": [
       "['foo', 'bar', 'baz']"
      ]
     },
     "execution_count": 57,
     "metadata": {},
     "output_type": "execute_result"
    }
   ],
   "source": [
    "t = (\"foo\", \"bar\", \"baz\")\n",
    "l = [x for x in t]\n",
    "l"
   ]
  },
  {
   "cell_type": "code",
   "execution_count": 59,
   "id": "85a81634",
   "metadata": {},
   "outputs": [
    {
     "data": {
      "text/plain": [
       "['foo', 'bar', 'baz', 'dwarf', 'dwarf']"
      ]
     },
     "execution_count": 59,
     "metadata": {},
     "output_type": "execute_result"
    }
   ],
   "source": [
    "l.append(\"dwarf\")\n",
    "l"
   ]
  },
  {
   "cell_type": "code",
   "execution_count": 60,
   "id": "3ad87861",
   "metadata": {},
   "outputs": [
    {
     "data": {
      "text/plain": [
       "['foo', 'red', 'bar', 'baz', 'dwarf', 'dwarf']"
      ]
     },
     "execution_count": 60,
     "metadata": {},
     "output_type": "execute_result"
    }
   ],
   "source": [
    "l.insert(1, \"red\")\n",
    "l"
   ]
  },
  {
   "cell_type": "markdown",
   "id": "4fbaf102",
   "metadata": {},
   "source": [
    "insert is computationally expensive compared with append, because references to subsequent elements have to be shifted internally to make room for the new element. If you need to insert elements at both the beginning and end of a sequence, you may wish to explore collections.deque, a double-ended queue, which is optimized for this purpose and found in the Python Standard Library."
   ]
  },
  {
   "cell_type": "markdown",
   "id": "456cfdc3",
   "metadata": {},
   "source": [
    "when you insert an element in list all the other elements have to shift by 1 place so you are making an operation of time complexity O(n). Say, I have million elements in a list and I want to add a letter in the middle, I will have to traverse through half elements to shift them by one index. This is O(n/2) time complexity if you think of it. when limit n tends to infinity, I will regard this as O(n). So in space complexity it is only O(1) because we are not dealing with linked lists etc and we only deal with one dimensional lists. For append time and space complexity is O(1) and so far more computationally inexpensive than insert"
   ]
  },
  {
   "cell_type": "code",
   "execution_count": null,
   "id": "1edbd87f",
   "metadata": {},
   "outputs": [],
   "source": [
    "#The inverse operation to insert is pop, which removes and returns an element at a particular index:"
   ]
  },
  {
   "cell_type": "code",
   "execution_count": 63,
   "id": "12811ab6",
   "metadata": {},
   "outputs": [
    {
     "data": {
      "text/plain": [
       "['foo', 'red', 'bar', 'dwarf']"
      ]
     },
     "execution_count": 63,
     "metadata": {},
     "output_type": "execute_result"
    }
   ],
   "source": [
    "l.pop(3)\n",
    "l"
   ]
  },
  {
   "cell_type": "code",
   "execution_count": 66,
   "id": "8da55796",
   "metadata": {},
   "outputs": [
    {
     "data": {
      "text/plain": [
       "['foo', 'dwarf']"
      ]
     },
     "execution_count": 66,
     "metadata": {},
     "output_type": "execute_result"
    }
   ],
   "source": [
    "l.remove('bar')\n",
    "l"
   ]
  },
  {
   "cell_type": "markdown",
   "id": "a8ac4f46",
   "metadata": {},
   "source": [
    "If performance is not a concern, by using append and remove, you can use a Python list as a set-like data structure (although Python has actual set objects, discussed later"
   ]
  },
  {
   "cell_type": "code",
   "execution_count": 69,
   "id": "aa78962a",
   "metadata": {},
   "outputs": [
    {
     "data": {
      "text/plain": [
       "False"
      ]
     },
     "execution_count": 69,
     "metadata": {},
     "output_type": "execute_result"
    }
   ],
   "source": [
    "'dwarf' not in l"
   ]
  },
  {
   "cell_type": "markdown",
   "id": "04af17a4",
   "metadata": {},
   "source": [
    "Checking whether a list contains a value is a lot slower than doing so with dictionaries and sets (to be introduced shortly), as Python makes a linear scan across the values of the list, whereas it can check the others (based on hash tables) in constant time."
   ]
  },
  {
   "cell_type": "markdown",
   "id": "919b29c6",
   "metadata": {},
   "source": [
    "# Concatenating and combining lists"
   ]
  },
  {
   "cell_type": "code",
   "execution_count": 71,
   "id": "b597b937",
   "metadata": {},
   "outputs": [
    {
     "data": {
      "text/plain": [
       "[4, None, 'foo', 7, 8, (2, 3)]"
      ]
     },
     "execution_count": 71,
     "metadata": {},
     "output_type": "execute_result"
    }
   ],
   "source": [
    "#concat lists similar to tuples using '+'\n",
    "[4, None, \"foo\"] + [7, 8, (2, 3)]"
   ]
  },
  {
   "cell_type": "markdown",
   "id": "1515d663",
   "metadata": {},
   "source": [
    "list concatenation by addition is a comparatively expensive operation since a new list must be created and the objects copied over. Using extend to append elements to an existing list, especially if you are building up a large list, is usually preferable. "
   ]
  },
  {
   "cell_type": "code",
   "execution_count": 73,
   "id": "4640c662",
   "metadata": {},
   "outputs": [
    {
     "data": {
      "text/plain": [
       "[4, None, 'foo', 7, 8, (2, 3)]"
      ]
     },
     "execution_count": 73,
     "metadata": {},
     "output_type": "execute_result"
    }
   ],
   "source": [
    "l = [4, None, \"foo\"]\n",
    "l.extend([7, 8, (2, 3)])\n",
    "l"
   ]
  },
  {
   "cell_type": "raw",
   "id": "843f15bd",
   "metadata": {},
   "source": [
    "everything = []\n",
    "for chunk in list_of_lists:\n",
    "    everything.extend(chunk)\n",
    "\n",
    "is faster than the concatenative alternative:\n",
    "\n",
    "everything = []\n",
    "for chunk in list_of_lists:\n",
    "    everything = everything + chunk"
   ]
  },
  {
   "cell_type": "code",
   "execution_count": 79,
   "id": "691787a2",
   "metadata": {},
   "outputs": [
    {
     "data": {
      "text/plain": [
       "['small', 'six', 'saw', 'foxes', 'He']"
      ]
     },
     "execution_count": 79,
     "metadata": {},
     "output_type": "execute_result"
    }
   ],
   "source": [
    "b = [\"saw\", \"small\", \"He\", \"foxes\", \"six\"]\n",
    "b.sort(reverse = True)\n",
    "b"
   ]
  },
  {
   "cell_type": "markdown",
   "id": "66f00e9d",
   "metadata": {},
   "source": [
    "# Slicing\n",
    "\n",
    "\n",
    "You can select sections of most sequence types by using slice notation, which in its basic form consists of start:stop passed to the indexing operator []:"
   ]
  },
  {
   "cell_type": "code",
   "execution_count": 111,
   "id": "ff7bd47e",
   "metadata": {},
   "outputs": [],
   "source": [
    "l1 = [\"foo\", \"bar\", \"baz\"]"
   ]
  },
  {
   "cell_type": "code",
   "execution_count": 112,
   "id": "6701e430",
   "metadata": {},
   "outputs": [
    {
     "data": {
      "text/plain": [
       "['foo', 'bar', 'baz']"
      ]
     },
     "execution_count": 112,
     "metadata": {},
     "output_type": "execute_result"
    }
   ],
   "source": [
    "l1"
   ]
  },
  {
   "cell_type": "code",
   "execution_count": 113,
   "id": "0f025898",
   "metadata": {},
   "outputs": [],
   "source": [
    "l1.append(\"dwarf\")"
   ]
  },
  {
   "cell_type": "code",
   "execution_count": null,
   "id": "7041bb32",
   "metadata": {},
   "outputs": [],
   "source": [
    "#Slicing concepts"
   ]
  },
  {
   "cell_type": "markdown",
   "id": "a2bfda01",
   "metadata": {},
   "source": [
    "List slicing allows you to pick out specific elements from a list. In oder to understand the list slicing, you need to know five things:\n",
    "\n",
    "Start index – this is the index from which the slice of a list is taken. This index is included.\n",
    "\n",
    "End Index – this is the index to which the slice is taken up to but not including.\n",
    "\n",
    "Step size – you can specify a skip factor that allows you to skip certain number of values\n",
    "\n",
    "the colon is used separate start and end index and the step size.\n",
    "\n",
    "Start index, end index, and step size are all optional, but you need at least one"
   ]
  },
  {
   "cell_type": "markdown",
   "id": "bf7ae696",
   "metadata": {},
   "source": [
    "Here are some variations of slicing:\n",
    "\n",
    "start index, but no end index – my_list[3:] – will take all elements from index 3 to the end of list, including the last value\n",
    "\n",
    "end index, but no start index – my_list[:10] – will take all elements from start of the of the list to index 10, but not include value at index 10\n",
    "\n",
    "both start and end index – my_list[3:10] – this will include all elements from index 3 all the way up to index 10, but not include index 10.\n",
    "\n",
    "start and end index and step size – my_list[3:10:2] – same as #3 but take every other element.\n",
    "\n",
    "no start index, end index, and step size – my_list[:10:2] – take all elements from start of list to index number 10, but not including index number 10; also take every other element."
   ]
  },
  {
   "cell_type": "code",
   "execution_count": 84,
   "id": "fac0eb99",
   "metadata": {},
   "outputs": [],
   "source": [
    "seq = [7, 2, 3, 7, 5, 6, 0, 1]\n"
   ]
  },
  {
   "cell_type": "code",
   "execution_count": 92,
   "id": "963078a8",
   "metadata": {},
   "outputs": [
    {
     "data": {
      "text/plain": [
       "[2, 3]"
      ]
     },
     "execution_count": 92,
     "metadata": {},
     "output_type": "execute_result"
    }
   ],
   "source": [
    "seq[1:3] #index starts from 0 to 3-1 0 to 2 indexes should be entered. so 2,3"
   ]
  },
  {
   "cell_type": "code",
   "execution_count": 97,
   "id": "a137be3b",
   "metadata": {},
   "outputs": [
    {
     "data": {
      "text/plain": [
       "[]"
      ]
     },
     "execution_count": 97,
     "metadata": {},
     "output_type": "execute_result"
    }
   ],
   "source": [
    "seq[-2:-6]"
   ]
  },
  {
   "cell_type": "code",
   "execution_count": 98,
   "id": "a78cfc4c",
   "metadata": {},
   "outputs": [
    {
     "data": {
      "text/plain": [
       "[3, 7, 5, 6]"
      ]
     },
     "execution_count": 98,
     "metadata": {},
     "output_type": "execute_result"
    }
   ],
   "source": [
    "seq[-6:-2]"
   ]
  },
  {
   "cell_type": "code",
   "execution_count": 95,
   "id": "ea0e158b",
   "metadata": {},
   "outputs": [
    {
     "data": {
      "text/plain": [
       "[1, 0, 6, 5]"
      ]
     },
     "execution_count": 95,
     "metadata": {},
     "output_type": "execute_result"
    }
   ],
   "source": [
    "seq[:3:-1]"
   ]
  },
  {
   "cell_type": "markdown",
   "id": "10c9a531",
   "metadata": {},
   "source": [
    "A step can also be used after a second colon to, say, take every other element:\n",
    "\n",
    "A clever use of this is to pass -1, which has the useful effect of reversing a list or tuple:"
   ]
  },
  {
   "cell_type": "code",
   "execution_count": 99,
   "id": "f6df2cf4",
   "metadata": {},
   "outputs": [],
   "source": [
    "#Reassigning list\n",
    "grades = ['A', 'B', 'C', 'D', 'F']\n",
    "grades[0] = 'a'\n",
    "grades[1:2] = 'a'\n",
    "grades[2:] = ['d', 'f']"
   ]
  },
  {
   "cell_type": "code",
   "execution_count": 100,
   "id": "eb93475b",
   "metadata": {},
   "outputs": [
    {
     "data": {
      "text/plain": [
       "['a', 'a', 'd', 'f']"
      ]
     },
     "execution_count": 100,
     "metadata": {},
     "output_type": "execute_result"
    }
   ],
   "source": [
    "grades"
   ]
  },
  {
   "cell_type": "code",
   "execution_count": 103,
   "id": "2bbccb0f",
   "metadata": {},
   "outputs": [],
   "source": [
    "#deleting list\n",
    "grades = ['A', 'B', 'C', 'D', 'F']\n",
    "del grades[0]\n",
    "del grades[1:3]"
   ]
  },
  {
   "cell_type": "code",
   "execution_count": 104,
   "id": "68ca79d1",
   "metadata": {},
   "outputs": [
    {
     "data": {
      "text/plain": [
       "['B', 'F']"
      ]
     },
     "execution_count": 104,
     "metadata": {},
     "output_type": "execute_result"
    }
   ],
   "source": [
    "grades"
   ]
  },
  {
   "cell_type": "code",
   "execution_count": 109,
   "id": "dcf24294",
   "metadata": {},
   "outputs": [
    {
     "data": {
      "text/plain": [
       "'A'"
      ]
     },
     "execution_count": 109,
     "metadata": {},
     "output_type": "execute_result"
    }
   ],
   "source": [
    "#pop and remove\n",
    "grades = ['A', 'B', 'C', 'D', 'F']\n",
    "grades.pop(0) # deletes the last element in list and returns it \n",
    "# deletes the first element in list and returns it\n",
    "#grades.pop(3) # deletes the fourth element in list and returns it"
   ]
  },
  {
   "cell_type": "code",
   "execution_count": 110,
   "id": "2dbca30e",
   "metadata": {},
   "outputs": [
    {
     "name": "stdout",
     "output_type": "stream",
     "text": [
      "[1, 2, 4, 5]\n"
     ]
    }
   ],
   "source": [
    "my_list = [1, 2, 3, 4, 5]\n",
    "my_list.remove(3)  # Remove first occurrence of value 3\n",
    "print(my_list)  # Output: [1, 2, 4, 5]"
   ]
  },
  {
   "cell_type": "markdown",
   "id": "6bc139c1",
   "metadata": {},
   "source": [
    "In terms of computational expense, the pop() method is generally more computationally expensive than the remove() method.\n",
    "\n",
    "The reason is that pop() involves two operations: removing the element from the list and shifting the subsequent elements to fill the gap left by the removed element. This shifting operation requires updating the indices of the subsequent elements in the list. The time complexity of pop() is O(n), where n is the length of the list, because shifting the elements takes linear time as it scales with the number of elements.\n",
    "\n",
    "On the other hand, the remove() method searches for the specified value in the list, and once found, it directly removes the element without shifting any other elements. The time complexity of remove() is O(n) in the worst case because it may need to traverse the entire list to find the value.\n",
    "\n",
    "However, it's important to note that the computational expense difference between pop() and remove() is generally negligible for small lists. The choice between them should be based on the specific requirements and functionality needed for your code"
   ]
  },
  {
   "cell_type": "markdown",
   "id": "db919ade",
   "metadata": {},
   "source": [
    "Complexities for Deleting elements in a Lists(remove() method):\n",
    "    \n",
    "Time Complexity: O(n)\n",
    "\n",
    "Space Complexity: O(1)\n",
    "    \n",
    "Complexities for Deleting elements in a Lists(pop() method):\n",
    "    \n",
    "Time Complexity: O(1)/O(n) (O(1) for removing the last element, O(n) for removing the first and middle elements)\n",
    "\n",
    "Space Complexity: O(1)"
   ]
  },
  {
   "cell_type": "code",
   "execution_count": 10,
   "id": "a893f48c",
   "metadata": {},
   "outputs": [
    {
     "data": {
      "text/plain": [
       "7"
      ]
     },
     "execution_count": 10,
     "metadata": {},
     "output_type": "execute_result"
    }
   ],
   "source": [
    "max(5,7)"
   ]
  },
  {
   "cell_type": "markdown",
   "id": "a8c280f2",
   "metadata": {},
   "source": [
    "Time Complexity:\n",
    "The time complexity for accessing elements in a list depends on the type of list and the specific operation you're performing. Here are the common cases:\n",
    "\n",
    "Accessing an element by index: O(1)\n",
    "If you know the index of the element you want to access, the time complexity is constant because the list uses an underlying array structure and can directly compute the memory address of the element based on the index.\n",
    "\n",
    "Searching for an element: O(n)\n",
    "If you need to search for an element in the list without knowing its index, you may need to iterate through the list until you find the desired element. In the worst case, you may have to check all n elements of the list, resulting in a linear time complexity.\n",
    "\n",
    "Space Complexity:\n",
    "The space complexity for accessing elements in a list also depends on the type of list and the specific operation. Here are the common cases:\n",
    "\n",
    "Accessing an element by index: O(1)\n",
    "When accessing an element by index, you don't allocate any additional space apart from the memory needed for the list itself. Hence, the space complexity is constant.\n",
    "\n",
    "Creating a new list or modifying the list: O(n)\n",
    "If you need to create a new list or modify the existing list by adding or removing elements, the space complexity would be proportional to the number of elements in the list. This is because you may need to allocate additional memory to accommodate the new or modified elements.\n",
    "\n",
    "It's important to note that these complexities assume a standard list implementation. Different data structures, such as linked lists or skip lists, may have different complexities for accessing elements. Additionally, if the list is nested or multidimensional, accessing elements may involve additional complexities based on the structure and dimensions of the list."
   ]
  },
  {
   "cell_type": "markdown",
   "id": "4dca311d",
   "metadata": {},
   "source": [
    "Other than append() and insert() methods, there’s one more method for the Addition of elements, extend(), this method is used to add multiple elements at the same time at the end of the list.\n",
    "\n",
    "Complexities for Adding elements in a Lists(extend() method):\n",
    "\n",
    "Time Complexity: O(n)\n",
    "\n",
    "Space Complexity: O(1)\n"
   ]
  },
  {
   "cell_type": "markdown",
   "id": "9aa6a94a",
   "metadata": {},
   "source": [
    "Other list methods\n",
    "\n",
    "len() calculate length of list\n",
    "\n",
    "max() calculate max of list\n",
    "\n",
    "min() calculate min of list\n",
    "\n",
    "sum() calculate sum of list\n",
    "\n",
    "sorted() return a sorted list\n",
    "\n",
    "list() cast to type list – convert tuple to list or a generator to list #python does not have list syntax\n",
    "\n",
    "any() return True if the truthiness of any value is True in the list\n",
    "\n",
    "all() return True if the truthiness of all the values is True in the list"
   ]
  },
  {
   "cell_type": "code",
   "execution_count": 115,
   "id": "15b97536",
   "metadata": {},
   "outputs": [
    {
     "name": "stdout",
     "output_type": "stream",
     "text": [
      "['Python', 'Geek', 5, 4, 3, 2, 1]\n"
     ]
    }
   ],
   "source": [
    "# Reversing a list\n",
    "mylist = [1, 2, 3, 4, 5, 'Geek', 'Python']\n",
    "mylist.reverse()\n",
    "print(mylist)"
   ]
  },
  {
   "cell_type": "code",
   "execution_count": 116,
   "id": "3219db51",
   "metadata": {},
   "outputs": [
    {
     "data": {
      "text/plain": [
       "[1, 2, 3, 4, 5, 'Geek', 'Python']"
      ]
     },
     "execution_count": 116,
     "metadata": {},
     "output_type": "execute_result"
    }
   ],
   "source": [
    "mylist[::-1]"
   ]
  },
  {
   "cell_type": "code",
   "execution_count": 117,
   "id": "cd60278a",
   "metadata": {},
   "outputs": [],
   "source": [
    "#better approach reverse index or reverse?"
   ]
  },
  {
   "cell_type": "markdown",
   "id": "7c2e0d61",
   "metadata": {},
   "source": [
    "# List comprehension"
   ]
  },
  {
   "cell_type": "markdown",
   "id": "71c2d09b",
   "metadata": {},
   "source": [
    "Python List comprehensions are used for creating new lists from other iterables like tuples, strings, arrays, lists, etc. A list comprehension consists of brackets containing the expression, which is executed for each element along with the for loop to iterate over each element."
   ]
  },
  {
   "cell_type": "markdown",
   "id": "40f5d9c1",
   "metadata": {},
   "source": [
    "newList = [ expression(element) for element in oldList if condition ]"
   ]
  },
  {
   "cell_type": "code",
   "execution_count": 119,
   "id": "3d0c26ef",
   "metadata": {},
   "outputs": [
    {
     "name": "stdout",
     "output_type": "stream",
     "text": [
      "[1, 9, 25, 49, 81]\n"
     ]
    }
   ],
   "source": [
    "# Python program to demonstrate list\n",
    "# comprehension in Python\n",
    "\n",
    "# below list contains square of all\n",
    "# odd numbers from range 1 to 10\n",
    "odd_square = [x ** 2 for x in range(1, 11) if x % 2 == 1]\n",
    "print(odd_square)"
   ]
  },
  {
   "cell_type": "code",
   "execution_count": 120,
   "id": "c4140e2f",
   "metadata": {},
   "outputs": [
    {
     "name": "stdout",
     "output_type": "stream",
     "text": [
      "[1, 9, 25, 49, 81]\n"
     ]
    }
   ],
   "source": [
    "# for understanding, above generation is same as,\n",
    "odd_square = []\n",
    "\n",
    "for x in range(1, 11):\n",
    "\tif x % 2 == 1:\n",
    "\t\todd_square.append(x**2)\n",
    "\n",
    "print(odd_square)\n"
   ]
  },
  {
   "cell_type": "markdown",
   "id": "1e925a74",
   "metadata": {},
   "source": [
    "Function\tDescription\n",
    "\n",
    "Append()\tAdd an element to the end of the list\n",
    "\n",
    "Extend()\tAdd all elements of a list to another list\n",
    "\n",
    "Insert()\tInsert an item at the defined index\n",
    "\n",
    "Remove()\tRemoves an item from the list\n",
    "\n",
    "Clear()\tRemoves all items from the list\n",
    "\n",
    "Index()\tReturns the index of the first matched item\n",
    "\n",
    "Count()\tReturns the count of the number of items passed as an argument\n",
    "\n",
    "Sort()\tSort items in a list in ascending order\n",
    "\n",
    "Reverse()\tReverse the order of items in the list\n",
    "\n",
    "copy()\tReturns a copy of the list"
   ]
  },
  {
   "cell_type": "markdown",
   "id": "dee722cc",
   "metadata": {},
   "source": [
    "Built in Functions and their Descriptions\n",
    "\n",
    "reduce()\tapply a particular function passed in its argument to all of the list elements stores the intermediate \n",
    "result and only returns the final summation value\n",
    "\n",
    "sum()\tSums up the numbers in the list\n",
    "\n",
    "ord()\tReturns an integer representing the Unicode code point of the given Unicode character\n",
    "\n",
    "cmp()\tThis function returns 1 if the first list is “greater” than the second list\n",
    "\n",
    "max()\treturn maximum element of a given list\n",
    "\n",
    "min()\treturn minimum element of a given list\n",
    "\n",
    "all()\tReturns true if all element is true or if the list is empty\n",
    "\n",
    "any()\treturn true if any element of the list is true. if the list is empty, return false\n",
    "\n",
    "len()\tReturns length of the list or size of the list\n",
    "\n",
    "enumerate()\tReturns enumerate object of the list\n",
    "\n",
    "accumulate()\tapply a particular function passed in its argument to all of the list elements returns a list containing the intermediate results\n",
    "\n",
    "filter()\ttests if each element of a list is true or not\n",
    "\n",
    "map()\treturns a list of the results after applying the given function to each item of a given iterable\n",
    "\n",
    "lambda()\tThis function can have any number of arguments but only one expression, which is evaluated and returned."
   ]
  },
  {
   "cell_type": "code",
   "execution_count": 122,
   "id": "0870f8bb",
   "metadata": {},
   "outputs": [],
   "source": [
    "#Enumerate function\n",
    "#index = 0\n",
    "#for value in collection:\n",
    "   # do something with value\n",
    "   #index += 1"
   ]
  },
  {
   "cell_type": "markdown",
   "id": "ee213feb",
   "metadata": {},
   "source": [
    "Enumerate() method adds a counter to an iterable and returns it in a form of enumerating object. This enumerated object can then be used directly for loops or converted into a list of tuples using the list() function"
   ]
  },
  {
   "cell_type": "code",
   "execution_count": 11,
   "id": "66ce5c4a",
   "metadata": {},
   "outputs": [
    {
     "name": "stdout",
     "output_type": "stream",
     "text": [
      "tin\n"
     ]
    }
   ],
   "source": [
    "rich = \"gold\"\n",
    "poor = \"tin\"\n",
    "# Max returns the latest alphabetical entry when applied to strings\n",
    "print(max(rich, poor))"
   ]
  },
  {
   "cell_type": "code",
   "execution_count": 12,
   "id": "9d7ed361",
   "metadata": {},
   "outputs": [
    {
     "data": {
      "text/plain": [
       "'Vaish'"
      ]
     },
     "execution_count": 12,
     "metadata": {},
     "output_type": "execute_result"
    }
   ],
   "source": [
    "max('Vaish', 'Srav')"
   ]
  },
  {
   "cell_type": "code",
   "execution_count": 13,
   "id": "851fdca7",
   "metadata": {},
   "outputs": [
    {
     "data": {
      "text/plain": [
       "'V'"
      ]
     },
     "execution_count": 13,
     "metadata": {},
     "output_type": "execute_result"
    }
   ],
   "source": [
    "max('V', 'S')"
   ]
  },
  {
   "cell_type": "markdown",
   "id": "f7ec9ebc",
   "metadata": {},
   "source": [
    "To summarize, sort() is a method that sorts a list in-place, modifying the original list, while sorted() is a function that creates a new sorted list without modifying the original list."
   ]
  },
  {
   "cell_type": "code",
   "execution_count": 123,
   "id": "9080ecd9",
   "metadata": {},
   "outputs": [
    {
     "data": {
      "text/plain": [
       "[0, 1, 2, 2, 3, 6, 7]"
      ]
     },
     "execution_count": 123,
     "metadata": {},
     "output_type": "execute_result"
    }
   ],
   "source": [
    "sorted([7, 1, 2, 6, 0, 3, 2])"
   ]
  },
  {
   "cell_type": "markdown",
   "id": "8b37ee6a",
   "metadata": {},
   "source": [
    "zip “pairs” up the elements of a number of lists, tuples, or other sequences to create a list of tuples"
   ]
  },
  {
   "cell_type": "markdown",
   "id": "03c2b7ec",
   "metadata": {},
   "source": [
    "A common use of zip is simultaneously iterating over multiple sequences, possibly also combined with enumerate:"
   ]
  },
  {
   "cell_type": "code",
   "execution_count": 124,
   "id": "b530dd39",
   "metadata": {},
   "outputs": [],
   "source": [
    "seq1 = [\"foo\", \"bar\", \"baz\"]\n",
    "\n",
    "seq2 = [\"one\", \"two\", \"three\"]"
   ]
  },
  {
   "cell_type": "code",
   "execution_count": 128,
   "id": "d16d0063",
   "metadata": {},
   "outputs": [
    {
     "name": "stdout",
     "output_type": "stream",
     "text": [
      "('foo', 'one')\n",
      "('bar', 'two')\n",
      "('baz', 'three')\n"
     ]
    }
   ],
   "source": [
    "for x in zip(seq1, seq2):\n",
    "    print(x)"
   ]
  },
  {
   "cell_type": "code",
   "execution_count": 131,
   "id": "efd5bbd1",
   "metadata": {},
   "outputs": [
    {
     "name": "stdout",
     "output_type": "stream",
     "text": [
      "0: 101\n",
      "1: 102\n",
      "2: 103\n",
      "3: 104\n",
      "4: 105\n"
     ]
    }
   ],
   "source": [
    "for index, x in enumerate([101, 102, 103, 104, 105]):\n",
    "    print(f\"{index}: {x}\")"
   ]
  },
  {
   "cell_type": "code",
   "execution_count": 125,
   "id": "a5b38350",
   "metadata": {},
   "outputs": [
    {
     "name": "stdout",
     "output_type": "stream",
     "text": [
      "0: foo, one\n",
      "1: bar, two\n",
      "2: baz, three\n"
     ]
    }
   ],
   "source": [
    "for index, (a, b) in enumerate(zip(seq1, seq2)):\n",
    "    print(f\"{index}: {a}, {b}\")"
   ]
  },
  {
   "cell_type": "code",
   "execution_count": 142,
   "id": "ee262569",
   "metadata": {},
   "outputs": [
    {
     "name": "stdout",
     "output_type": "stream",
     "text": [
      "[9, 8, 7, 6, 5, 4, 3, 2, 1, 0]\n"
     ]
    }
   ],
   "source": [
    "l = []\n",
    "for i in reversed(range(10)) :\n",
    "    l.append(i)\n",
    "print(l)"
   ]
  },
  {
   "cell_type": "code",
   "execution_count": 143,
   "id": "8cffd33a",
   "metadata": {},
   "outputs": [
    {
     "name": "stdout",
     "output_type": "stream",
     "text": [
      "5\n",
      "10\n",
      "15\n",
      "20\n",
      "25\n",
      "30\n",
      "35\n",
      "40\n",
      "45\n"
     ]
    }
   ],
   "source": [
    "for i in range(5,50,5) :\n",
    "    print(i)"
   ]
  },
  {
   "cell_type": "code",
   "execution_count": 144,
   "id": "fce666c7",
   "metadata": {},
   "outputs": [
    {
     "name": "stdout",
     "output_type": "stream",
     "text": [
      "0\n",
      "1\n",
      "2\n",
      "3\n",
      "4\n"
     ]
    }
   ],
   "source": [
    "values = [4, 10, 3, 8, -6]\n",
    "for i in range(len(values)):\n",
    "    print(i)"
   ]
  },
  {
   "cell_type": "code",
   "execution_count": 145,
   "id": "8191abd6",
   "metadata": {},
   "outputs": [
    {
     "name": "stdout",
     "output_type": "stream",
     "text": [
      "0 4\n",
      "1 10\n",
      "2 3\n",
      "3 8\n",
      "4 -6\n"
     ]
    }
   ],
   "source": [
    "values = [4, 10, 3, 8, -6]\n",
    "for i in range(len(values)):\n",
    "    print(i, values[i])"
   ]
  },
  {
   "cell_type": "code",
   "execution_count": 147,
   "id": "ece47423",
   "metadata": {},
   "outputs": [
    {
     "name": "stdout",
     "output_type": "stream",
     "text": [
      "0\n",
      "1\n",
      "2\n",
      "3\n",
      "4\n"
     ]
    }
   ],
   "source": [
    "for index, i in enumerate(values):\n",
    "    print(index)"
   ]
  },
  {
   "cell_type": "code",
   "execution_count": 148,
   "id": "08298a5f",
   "metadata": {},
   "outputs": [
    {
     "name": "stdout",
     "output_type": "stream",
     "text": [
      "1134000234 0001123344 4433211000\n"
     ]
    }
   ],
   "source": [
    "string1 = '1134000234'\n",
    "string2 = ''.join(sorted([ele for ele in string1]))\n",
    "string3 = ''.join(sorted([ele for ele in string1], reverse=True))\n",
    "print(string1, string2, string3)"
   ]
  },
  {
   "cell_type": "code",
   "execution_count": 149,
   "id": "33a6628b",
   "metadata": {},
   "outputs": [
    {
     "name": "stdout",
     "output_type": "stream",
     "text": [
      "0001123344\n"
     ]
    }
   ],
   "source": [
    "store = [0] * 10\n",
    "\n",
    "for char in string1:\n",
    "    index = int(char)\n",
    "    store[index] += 1 #store[index] = store[index]+1\n",
    "\n",
    "sorted_string = ''\n",
    "for idx, ele in enumerate(store):\n",
    "    sorted_string += str(idx) * ele\n",
    "print(sorted_string)"
   ]
  },
  {
   "cell_type": "code",
   "execution_count": 151,
   "id": "d217bb9d",
   "metadata": {},
   "outputs": [
    {
     "data": {
      "text/plain": [
       "[3, 2, 1, 2, 2, 0, 0, 0, 0, 0]"
      ]
     },
     "execution_count": 151,
     "metadata": {},
     "output_type": "execute_result"
    }
   ],
   "source": [
    "store = [0] * 10\n",
    "\n",
    "for char in string1:\n",
    "    index = int(char)\n",
    "    store[index] += 1 #store[index] = store[index]+1\n",
    "store"
   ]
  },
  {
   "cell_type": "code",
   "execution_count": 152,
   "id": "f9679172",
   "metadata": {},
   "outputs": [
    {
     "name": "stdout",
     "output_type": "stream",
     "text": [
      "0001123344\n"
     ]
    }
   ],
   "source": [
    "sorted_string = ''\n",
    "for idx, ele in enumerate(store):\n",
    "    sorted_string += str(idx) * ele\n",
    "print(sorted_string)"
   ]
  },
  {
   "cell_type": "markdown",
   "id": "646ea985",
   "metadata": {},
   "source": [
    "#skipping bad values\n",
    "\n",
    "try:\n",
    "\n",
    "    value = float(line)\n",
    "    \n",
    "except:\n",
    "\n",
    "    continue"
   ]
  },
  {
   "cell_type": "code",
   "execution_count": 156,
   "id": "ba738357",
   "metadata": {},
   "outputs": [
    {
     "name": "stdout",
     "output_type": "stream",
     "text": [
      "10\n"
     ]
    }
   ],
   "source": [
    "#while loop\n",
    "number = 1234\n",
    "sum = 0\n",
    "while number:\n",
    "    sum += number % 10 #remainder\n",
    "    number = number // 10 #quotient of type int\n",
    "print(sum)"
   ]
  },
  {
   "cell_type": "code",
   "execution_count": 166,
   "id": "f03da5e0",
   "metadata": {},
   "outputs": [
    {
     "name": "stdout",
     "output_type": "stream",
     "text": [
      "10\n"
     ]
    }
   ],
   "source": [
    "for digit in str(number):\n",
    "    sum += int(digit)\n",
    "print(sum)"
   ]
  },
  {
   "cell_type": "code",
   "execution_count": 167,
   "id": "74c29610",
   "metadata": {},
   "outputs": [],
   "source": [
    "#int, none, boolean, float are not iterable"
   ]
  },
  {
   "cell_type": "code",
   "execution_count": null,
   "id": "fa6a5a21",
   "metadata": {},
   "outputs": [],
   "source": [
    "#String Methods"
   ]
  },
  {
   "cell_type": "markdown",
   "id": "9ac705bd",
   "metadata": {},
   "source": [
    "strip() : strip spaces to left and right of the string\n",
    "\n",
    "strip(chars) : strip chars to left and right of the string\n",
    "\n",
    "lstrip : strip spaces to left of string\n",
    "\n",
    "rstrip : strip spaces to right of string"
   ]
  },
  {
   "cell_type": "markdown",
   "id": "6bc25377",
   "metadata": {},
   "source": [
    "islower \n",
    "\n",
    "isupper\n",
    "\n",
    "upper\n",
    "\n",
    "lower\n",
    "\n",
    "capitalize\n",
    "\n",
    "title\n",
    "\n",
    "swap case : convert lower to upper and upper to lower"
   ]
  },
  {
   "cell_type": "markdown",
   "id": "c1c7d5d9",
   "metadata": {},
   "source": [
    ".join() - The string join() method returns a string by joining all the elements of an iterable (list, string, tuple), separated by the given separator.\n",
    "\n",
    "isalpha() – Returns True if all the characters are alphabet\n",
    "\n",
    "isdecimal() – Returns True if all the characters are numbers (0-9); USE THIS!\n",
    "\n",
    "isdigit() – Returns True if all the characters are numbers (0-9), superscripts (\"\\u00B2\"), or fractions '\\u00BC';\n",
    "\n",
    "isnumeric() – Returns True if all the characters are numbers (0-9), superscripts (\"\\u00B2\"), fractions '\\u00BC', or Roman Numerals!\n",
    "\n",
    "isalnum() – Returns True if the string is alpha numeric\n",
    "\n",
    "startswith(substring) – Returns True if the string starts with the specific input argument\n",
    "\n",
    "\n",
    "endswith(substring) – Returns True if the string ends with the specific input argument\n",
    "\n",
    "find(substring) – Returns the index if the character is found; otherwise returns -1\n",
    "\n",
    "in operator – Returns True if the operand on the left exists in the string\n",
    "\n",
    "count(substring) – Returns the number of times the substring occurs\n",
    "\n",
    "index(substring) – Returns the index if the character is found; otherwise raises an error\n",
    "\n",
    "replace() – Replaces character(s) with other character(s); returns a new string\n"
   ]
  },
  {
   "cell_type": "markdown",
   "id": "6a55b372",
   "metadata": {},
   "source": [
    "zfill(number_of_zeros) – prepend zeros to a string; returns a new string"
   ]
  },
  {
   "cell_type": "code",
   "execution_count": 168,
   "id": "f644a960",
   "metadata": {},
   "outputs": [
    {
     "data": {
      "text/plain": [
       "'00EAS503'"
      ]
     },
     "execution_count": 168,
     "metadata": {},
     "output_type": "execute_result"
    }
   ],
   "source": [
    "my_string = 'EAS503'\n",
    "my_string.zfill(8)"
   ]
  },
  {
   "cell_type": "code",
   "execution_count": 169,
   "id": "98e0ada8",
   "metadata": {},
   "outputs": [
    {
     "data": {
      "text/plain": [
       "'00000123'"
      ]
     },
     "execution_count": 169,
     "metadata": {},
     "output_type": "execute_result"
    }
   ],
   "source": [
    "my_string = '123'\n",
    "my_string.zfill(8)"
   ]
  },
  {
   "cell_type": "code",
   "execution_count": 161,
   "id": "6271a041",
   "metadata": {},
   "outputs": [
    {
     "data": {
      "text/plain": [
       "1"
      ]
     },
     "execution_count": 161,
     "metadata": {},
     "output_type": "execute_result"
    }
   ],
   "source": [
    "15%2"
   ]
  },
  {
   "cell_type": "code",
   "execution_count": 14,
   "id": "2a5b1f81",
   "metadata": {},
   "outputs": [],
   "source": [
    "def c_to_f(temp):\n",
    "    return(temp * 1.8 +32)"
   ]
  },
  {
   "cell_type": "code",
   "execution_count": 15,
   "id": "d58d360c",
   "metadata": {},
   "outputs": [
    {
     "data": {
      "text/plain": [
       "32.0"
      ]
     },
     "execution_count": 15,
     "metadata": {},
     "output_type": "execute_result"
    }
   ],
   "source": [
    "c_to_f(0)"
   ]
  },
  {
   "cell_type": "code",
   "execution_count": 19,
   "id": "8fd86370",
   "metadata": {},
   "outputs": [],
   "source": [
    "def a (temp):\n",
    "    return(temp*2)"
   ]
  },
  {
   "cell_type": "code",
   "execution_count": 20,
   "id": "f5a119da",
   "metadata": {},
   "outputs": [
    {
     "data": {
      "text/plain": [
       "10"
      ]
     },
     "execution_count": 20,
     "metadata": {},
     "output_type": "execute_result"
    }
   ],
   "source": [
    "a(5)"
   ]
  },
  {
   "cell_type": "code",
   "execution_count": null,
   "id": "2eed4adb",
   "metadata": {},
   "outputs": [],
   "source": []
  },
  {
   "cell_type": "code",
   "execution_count": null,
   "id": "53bc89a8",
   "metadata": {},
   "outputs": [],
   "source": []
  },
  {
   "cell_type": "code",
   "execution_count": null,
   "id": "8fcecd67",
   "metadata": {},
   "outputs": [],
   "source": []
  },
  {
   "cell_type": "code",
   "execution_count": null,
   "id": "b131ca19",
   "metadata": {},
   "outputs": [],
   "source": []
  },
  {
   "cell_type": "code",
   "execution_count": null,
   "id": "d761ad9b",
   "metadata": {},
   "outputs": [],
   "source": []
  },
  {
   "cell_type": "code",
   "execution_count": 40,
   "id": "117adda1",
   "metadata": {},
   "outputs": [],
   "source": [
    "def check_leap_year(year):\n",
    "    if year%4 == 0:\n",
    "        return True\n",
    "    else:\n",
    "        return False"
   ]
  },
  {
   "cell_type": "code",
   "execution_count": 41,
   "id": "b96d2e8c",
   "metadata": {},
   "outputs": [
    {
     "data": {
      "text/plain": [
       "True"
      ]
     },
     "execution_count": 41,
     "metadata": {},
     "output_type": "execute_result"
    }
   ],
   "source": [
    "check_leap_year(2004)"
   ]
  },
  {
   "cell_type": "code",
   "execution_count": 31,
   "id": "5133e48a",
   "metadata": {},
   "outputs": [],
   "source": [
    "check_leap_year = 5"
   ]
  },
  {
   "cell_type": "code",
   "execution_count": 34,
   "id": "7b5701d9",
   "metadata": {},
   "outputs": [
    {
     "data": {
      "text/plain": [
       "<function __main__.check_leap_year(year)>"
      ]
     },
     "execution_count": 34,
     "metadata": {},
     "output_type": "execute_result"
    }
   ],
   "source": [
    "check_leap_year"
   ]
  },
  {
   "cell_type": "code",
   "execution_count": null,
   "id": "9e0753f1",
   "metadata": {},
   "outputs": [],
   "source": []
  },
  {
   "cell_type": "code",
   "execution_count": null,
   "id": "75b9bb5a",
   "metadata": {},
   "outputs": [],
   "source": []
  },
  {
   "cell_type": "code",
   "execution_count": null,
   "id": "88dcf0c1",
   "metadata": {},
   "outputs": [],
   "source": []
  },
  {
   "cell_type": "code",
   "execution_count": null,
   "id": "cec624df",
   "metadata": {},
   "outputs": [],
   "source": []
  },
  {
   "cell_type": "code",
   "execution_count": null,
   "id": "54ae336c",
   "metadata": {},
   "outputs": [],
   "source": []
  },
  {
   "cell_type": "code",
   "execution_count": 45,
   "id": "2ec1186c",
   "metadata": {},
   "outputs": [],
   "source": [
    "def check_string_length(input_string):\n",
    "    if len(input_string) > 5 :\n",
    "        return True\n",
    "    else :\n",
    "        return False"
   ]
  },
  {
   "cell_type": "code",
   "execution_count": 47,
   "id": "c0346e08",
   "metadata": {},
   "outputs": [
    {
     "data": {
      "text/plain": [
       "False"
      ]
     },
     "execution_count": 47,
     "metadata": {},
     "output_type": "execute_result"
    }
   ],
   "source": [
    "check_string_length('sai')"
   ]
  },
  {
   "cell_type": "code",
   "execution_count": 1,
   "id": "4e3d70c4",
   "metadata": {},
   "outputs": [
    {
     "name": "stdout",
     "output_type": "stream",
     "text": [
      "1\n",
      "2\n",
      "3\n",
      "4\n",
      "5\n",
      "6\n",
      "7\n",
      "8\n",
      "9\n",
      "10\n",
      "11\n",
      "12\n"
     ]
    }
   ],
   "source": [
    "my_list = [[[1, 2], [3, 4]], [[5, 6], [7, 8]], [[9, 10], [11, 12]]]\n",
    "\n",
    "# Level_1 : [[1, 2], [3, 4]], [[5, 6], [7, 8]], [[9, 10], [11, 12]]\n",
    "#     Level_2 : [1, 2], [3, 4], [5, 6], [7, 8], [9, 10], [11, 12]\n",
    "#             Level 3 : 1,2,3\n",
    "                                                \n",
    "for level_1 in my_list: \n",
    "    for level_2 in level_1:\n",
    "        for level_3 in level_2:\n",
    "            print(level_3)"
   ]
  },
  {
   "cell_type": "code",
   "execution_count": null,
   "id": "37166b56",
   "metadata": {},
   "outputs": [],
   "source": []
  },
  {
   "cell_type": "code",
   "execution_count": null,
   "id": "f8fed6eb",
   "metadata": {},
   "outputs": [],
   "source": []
  },
  {
   "cell_type": "code",
   "execution_count": null,
   "id": "3d68270f",
   "metadata": {},
   "outputs": [],
   "source": []
  },
  {
   "cell_type": "code",
   "execution_count": null,
   "id": "00b1ccaa",
   "metadata": {},
   "outputs": [],
   "source": []
  },
  {
   "cell_type": "code",
   "execution_count": null,
   "id": "7a99b9a3",
   "metadata": {},
   "outputs": [],
   "source": []
  },
  {
   "cell_type": "code",
   "execution_count": 55,
   "id": "b3b99f75",
   "metadata": {},
   "outputs": [],
   "source": [
    "def check_number_type(x):\n",
    "    if x % 2 == 0 :\n",
    "        return 'even'\n",
    "    elif x % 2 != 0 :\n",
    "        return 'odd'\n",
    "    else :\n",
    "        return 'prime'"
   ]
  },
  {
   "cell_type": "code",
   "execution_count": 57,
   "id": "b742ab72",
   "metadata": {},
   "outputs": [
    {
     "data": {
      "text/plain": [
       "'odd'"
      ]
     },
     "execution_count": 57,
     "metadata": {},
     "output_type": "execute_result"
    }
   ],
   "source": [
    "check_number_type(11)"
   ]
  },
  {
   "cell_type": "code",
   "execution_count": null,
   "id": "af29456a",
   "metadata": {},
   "outputs": [],
   "source": []
  },
  {
   "cell_type": "markdown",
   "id": "5cc698a9",
   "metadata": {},
   "source": [
    "### Slicing\n",
    "- \"[<left_index> : <right_index>]\"\n",
    "0 to n-1"
   ]
  },
  {
   "cell_type": "code",
   "execution_count": 63,
   "id": "803f1977",
   "metadata": {},
   "outputs": [],
   "source": [
    "s = ['a', 'b', 'c', 'd', 'e']"
   ]
  },
  {
   "cell_type": "code",
   "execution_count": 64,
   "id": "85d18160",
   "metadata": {},
   "outputs": [
    {
     "data": {
      "text/plain": [
       "['a', 'b', 'c', 'd', 'e']"
      ]
     },
     "execution_count": 64,
     "metadata": {},
     "output_type": "execute_result"
    }
   ],
   "source": [
    "s[:]"
   ]
  },
  {
   "cell_type": "code",
   "execution_count": 65,
   "id": "c15497d2",
   "metadata": {},
   "outputs": [
    {
     "data": {
      "text/plain": [
       "['a', 'b', 'c', 'd']"
      ]
     },
     "execution_count": 65,
     "metadata": {},
     "output_type": "execute_result"
    }
   ],
   "source": [
    "s[:-1]"
   ]
  },
  {
   "cell_type": "code",
   "execution_count": 66,
   "id": "a2d08b67",
   "metadata": {},
   "outputs": [
    {
     "data": {
      "text/plain": [
       "['a', 'b', 'c']"
      ]
     },
     "execution_count": 66,
     "metadata": {},
     "output_type": "execute_result"
    }
   ],
   "source": [
    "s[:-2]"
   ]
  },
  {
   "cell_type": "code",
   "execution_count": 67,
   "id": "396a936f",
   "metadata": {},
   "outputs": [
    {
     "data": {
      "text/plain": [
       "['a', 'b']"
      ]
     },
     "execution_count": 67,
     "metadata": {},
     "output_type": "execute_result"
    }
   ],
   "source": [
    "s[:-3]"
   ]
  },
  {
   "cell_type": "code",
   "execution_count": 70,
   "id": "105e8437",
   "metadata": {},
   "outputs": [
    {
     "data": {
      "text/plain": [
       "['c']"
      ]
     },
     "execution_count": 70,
     "metadata": {},
     "output_type": "execute_result"
    }
   ],
   "source": [
    "s[2:3]"
   ]
  },
  {
   "cell_type": "code",
   "execution_count": 71,
   "id": "02358524",
   "metadata": {},
   "outputs": [
    {
     "data": {
      "text/plain": [
       "['c', 'd']"
      ]
     },
     "execution_count": 71,
     "metadata": {},
     "output_type": "execute_result"
    }
   ],
   "source": [
    "s[-3:-1]"
   ]
  },
  {
   "cell_type": "code",
   "execution_count": 72,
   "id": "54b1fc84",
   "metadata": {},
   "outputs": [
    {
     "data": {
      "text/plain": [
       "[]"
      ]
     },
     "execution_count": 72,
     "metadata": {},
     "output_type": "execute_result"
    }
   ],
   "source": [
    "s[-3:-4]"
   ]
  },
  {
   "cell_type": "code",
   "execution_count": null,
   "id": "59700771",
   "metadata": {},
   "outputs": [],
   "source": []
  },
  {
   "cell_type": "code",
   "execution_count": null,
   "id": "50202d26",
   "metadata": {},
   "outputs": [],
   "source": []
  },
  {
   "cell_type": "code",
   "execution_count": null,
   "id": "3d3e320b",
   "metadata": {},
   "outputs": [],
   "source": []
  },
  {
   "cell_type": "code",
   "execution_count": 76,
   "id": "edee6875",
   "metadata": {},
   "outputs": [],
   "source": [
    "a = [1,2,3,4,5,6]"
   ]
  },
  {
   "cell_type": "code",
   "execution_count": 77,
   "id": "28897be1",
   "metadata": {},
   "outputs": [
    {
     "data": {
      "text/plain": [
       "6"
      ]
     },
     "execution_count": 77,
     "metadata": {},
     "output_type": "execute_result"
    }
   ],
   "source": [
    "a[5]"
   ]
  },
  {
   "cell_type": "code",
   "execution_count": 82,
   "id": "12b388c8",
   "metadata": {},
   "outputs": [],
   "source": [
    "b=[]"
   ]
  },
  {
   "cell_type": "code",
   "execution_count": 83,
   "id": "ab632ecc",
   "metadata": {},
   "outputs": [
    {
     "data": {
      "text/plain": [
       "[1]"
      ]
     },
     "execution_count": 83,
     "metadata": {},
     "output_type": "execute_result"
    }
   ],
   "source": [
    "b.append(1)\n",
    "b"
   ]
  },
  {
   "cell_type": "code",
   "execution_count": 84,
   "id": "df72368c",
   "metadata": {},
   "outputs": [
    {
     "data": {
      "text/plain": [
       "[1, 2]"
      ]
     },
     "execution_count": 84,
     "metadata": {},
     "output_type": "execute_result"
    }
   ],
   "source": [
    "b.append(2)\n",
    "b"
   ]
  },
  {
   "cell_type": "code",
   "execution_count": 85,
   "id": "d506faf5",
   "metadata": {},
   "outputs": [
    {
     "data": {
      "text/plain": [
       "[1, 2, 3]"
      ]
     },
     "execution_count": 85,
     "metadata": {},
     "output_type": "execute_result"
    }
   ],
   "source": [
    "b.append(3)\n",
    "b"
   ]
  },
  {
   "cell_type": "code",
   "execution_count": 86,
   "id": "9f3fcfa7",
   "metadata": {},
   "outputs": [
    {
     "data": {
      "text/plain": [
       "[1, 2, 3, 4]"
      ]
     },
     "execution_count": 86,
     "metadata": {},
     "output_type": "execute_result"
    }
   ],
   "source": [
    "b.append(4)\n",
    "b"
   ]
  },
  {
   "cell_type": "code",
   "execution_count": 87,
   "id": "21d479be",
   "metadata": {},
   "outputs": [
    {
     "data": {
      "text/plain": [
       "[1, 2, 3, 4, 5]"
      ]
     },
     "execution_count": 87,
     "metadata": {},
     "output_type": "execute_result"
    }
   ],
   "source": [
    "b.append(5)\n",
    "b"
   ]
  },
  {
   "cell_type": "code",
   "execution_count": 97,
   "id": "c47667cb",
   "metadata": {},
   "outputs": [],
   "source": [
    "a=[1]\n",
    "c=a.extend(b)"
   ]
  },
  {
   "cell_type": "code",
   "execution_count": 99,
   "id": "65c20096",
   "metadata": {},
   "outputs": [
    {
     "data": {
      "text/plain": [
       "[1, 2, 3, 4, 5]"
      ]
     },
     "execution_count": 99,
     "metadata": {},
     "output_type": "execute_result"
    }
   ],
   "source": [
    "b"
   ]
  },
  {
   "cell_type": "code",
   "execution_count": 100,
   "id": "6e4441d2",
   "metadata": {},
   "outputs": [
    {
     "data": {
      "text/plain": [
       "[1, 1, 2, 3, 4, 5]"
      ]
     },
     "execution_count": 100,
     "metadata": {},
     "output_type": "execute_result"
    }
   ],
   "source": [
    "a"
   ]
  },
  {
   "cell_type": "code",
   "execution_count": 105,
   "id": "b6a1a8b0",
   "metadata": {},
   "outputs": [],
   "source": [
    "c = [5]\n",
    "c=a.extend(b)\n",
    "c"
   ]
  },
  {
   "cell_type": "code",
   "execution_count": 106,
   "id": "be0e0eec",
   "metadata": {},
   "outputs": [],
   "source": [
    "c"
   ]
  },
  {
   "cell_type": "code",
   "execution_count": null,
   "id": "cbad41e3",
   "metadata": {},
   "outputs": [],
   "source": []
  },
  {
   "cell_type": "code",
   "execution_count": 42,
   "id": "02d135db",
   "metadata": {},
   "outputs": [],
   "source": [
    "titles = ['Norwegian Woods','Kafka on the Shore'] #titles is defined after its called\n",
    "def make_acronyms(titles):\n",
    "    result = [] # output should be a list, not a string\n",
    "    for title in titles:#title needs to match t\n",
    "        #need second string aggregator here\n",
    "        acronym = ''\n",
    "        for word in title.split(' '):#missing\n",
    "            firstChar = word[0].upper()\n",
    "            acronym += firstChar\n",
    "            #acronym.append(word[0].upper()+word[-1].upper()) #wrong index\n",
    "        result.append(acronym)\n",
    "    return(result)\n",
    "\n",
    "output = make_acronyms(titles)"
   ]
  },
  {
   "cell_type": "code",
   "execution_count": 43,
   "id": "1a040cb0",
   "metadata": {},
   "outputs": [
    {
     "data": {
      "text/plain": [
       "['NW', 'KOTS']"
      ]
     },
     "execution_count": 43,
     "metadata": {},
     "output_type": "execute_result"
    }
   ],
   "source": [
    "output"
   ]
  },
  {
   "cell_type": "code",
   "execution_count": 45,
   "id": "32437d4f",
   "metadata": {},
   "outputs": [
    {
     "data": {
      "text/plain": [
       "(3, 2)"
      ]
     },
     "execution_count": 45,
     "metadata": {},
     "output_type": "execute_result"
    }
   ],
   "source": [
    "nested_tuple = (4,5,6),(3,2)\n",
    "nested_tuple[1]"
   ]
  },
  {
   "cell_type": "code",
   "execution_count": 48,
   "id": "f4ef6a18",
   "metadata": {},
   "outputs": [
    {
     "data": {
      "text/plain": [
       "{'name': 'srav'}"
      ]
     },
     "execution_count": 48,
     "metadata": {},
     "output_type": "execute_result"
    }
   ],
   "source": [
    "d = {'name':'vaishnavi'}\n",
    "d['name'] = 'srav'\n",
    "d"
   ]
  },
  {
   "cell_type": "code",
   "execution_count": 56,
   "id": "c22ce9f0",
   "metadata": {},
   "outputs": [
    {
     "data": {
      "text/plain": [
       "False"
      ]
     },
     "execution_count": 56,
     "metadata": {},
     "output_type": "execute_result"
    }
   ],
   "source": [
    "tup = ('pass',True),('fail',False), False\n",
    "tup[2]"
   ]
  },
  {
   "cell_type": "code",
   "execution_count": 57,
   "id": "2113f573",
   "metadata": {},
   "outputs": [],
   "source": [
    "tup = (1,2,3)\n",
    "a,b,c = tup"
   ]
  },
  {
   "cell_type": "code",
   "execution_count": 59,
   "id": "ebdae76d",
   "metadata": {},
   "outputs": [
    {
     "data": {
      "text/plain": [
       "1"
      ]
     },
     "execution_count": 59,
     "metadata": {},
     "output_type": "execute_result"
    }
   ],
   "source": [
    "a"
   ]
  },
  {
   "cell_type": "code",
   "execution_count": null,
   "id": "e84aa6e4",
   "metadata": {},
   "outputs": [],
   "source": [
    "list = "
   ]
  },
  {
   "cell_type": "code",
   "execution_count": 60,
   "id": "8205e14a",
   "metadata": {},
   "outputs": [],
   "source": [
    "l = [1,2,3,4,5]\n",
    "a,b,c,d,e = l"
   ]
  },
  {
   "cell_type": "code",
   "execution_count": 61,
   "id": "2d5c9988",
   "metadata": {},
   "outputs": [
    {
     "data": {
      "text/plain": [
       "4"
      ]
     },
     "execution_count": 61,
     "metadata": {},
     "output_type": "execute_result"
    }
   ],
   "source": [
    "d"
   ]
  },
  {
   "cell_type": "code",
   "execution_count": 62,
   "id": "dedcdbaa",
   "metadata": {},
   "outputs": [],
   "source": [
    "l = [1,2,4,5,6]"
   ]
  },
  {
   "cell_type": "code",
   "execution_count": 65,
   "id": "83280bb4",
   "metadata": {},
   "outputs": [
    {
     "data": {
      "text/plain": [
       "[1, 2, 4, 5, 6, 3, 3]"
      ]
     },
     "execution_count": 65,
     "metadata": {},
     "output_type": "execute_result"
    }
   ],
   "source": [
    "# INSSERT 3 IN CORRECT POSITION\n",
    "l.append(3)\n",
    "l"
   ]
  },
  {
   "cell_type": "code",
   "execution_count": 72,
   "id": "e7971538",
   "metadata": {},
   "outputs": [
    {
     "name": "stdout",
     "output_type": "stream",
     "text": [
      "2\n",
      "3\n",
      "4\n"
     ]
    },
    {
     "data": {
      "text/plain": [
       "[1, 2, 3, 4, 4, 4]"
      ]
     },
     "execution_count": 72,
     "metadata": {},
     "output_type": "execute_result"
    }
   ],
   "source": [
    "l = [1,2,4,5,6]\n",
    "\n",
    "def insert_element_at_ind(insert_at, x, l):\n",
    "    temp = -1\n",
    "    l.append(-1)\n",
    "    for i in range(insert_at, len(l)-1):\n",
    "        print(i)\n",
    "        temp = l[i+1]\n",
    "        l[i+1] = l[i]\n",
    "    l[insert_at] = x\n",
    "    return l\n",
    "\n",
    "result = insert_element_at_ind(2, 3, l)\n",
    "result"
   ]
  },
  {
   "cell_type": "code",
   "execution_count": 77,
   "id": "2195fa39",
   "metadata": {},
   "outputs": [
    {
     "data": {
      "text/plain": [
       "[1, 2, 4, 5, 6, 6]"
      ]
     },
     "execution_count": 77,
     "metadata": {},
     "output_type": "execute_result"
    }
   ],
   "source": [
    "l = [1,2,4,5,6]\n",
    "l.append(6)\n",
    "l"
   ]
  },
  {
   "cell_type": "code",
   "execution_count": 75,
   "id": "ca06074f",
   "metadata": {},
   "outputs": [
    {
     "name": "stdout",
     "output_type": "stream",
     "text": [
      "None\n"
     ]
    }
   ],
   "source": [
    "def insert_element_at_ind(insert_at, x, l):\n",
    "    temp = -1\n",
    "    l.append(-1)\n",
    "    for i in range(insert_at, len(l)-1):\n",
    "        print(i)\n",
    "        temp = l[i+1]\n",
    "        l[i+1] = l[i]\n",
    "    l[insert_at] = x\n",
    "    return l"
   ]
  },
  {
   "cell_type": "code",
   "execution_count": 80,
   "id": "71634851",
   "metadata": {},
   "outputs": [],
   "source": [
    "def insert_element_at_ind(insert_at, x, l):\n",
    "    left = l[:insert_at]\n",
    "    right = l[insert_at:]\n",
    "    left.append(x)\n",
    "    left.extend(right)\n",
    "    \n",
    "    return left"
   ]
  },
  {
   "cell_type": "code",
   "execution_count": 86,
   "id": "85b5635d",
   "metadata": {},
   "outputs": [],
   "source": [
    "l = [1,2,4,5,6]\n",
    "l = insert_element_at_ind(2, 3, l)"
   ]
  },
  {
   "cell_type": "code",
   "execution_count": 87,
   "id": "849c7dae",
   "metadata": {},
   "outputs": [
    {
     "data": {
      "text/plain": [
       "[1, 2, 3, 4, 5, 6]"
      ]
     },
     "execution_count": 87,
     "metadata": {},
     "output_type": "execute_result"
    }
   ],
   "source": [
    "l"
   ]
  },
  {
   "cell_type": "code",
   "execution_count": 93,
   "id": "9b7f50b2",
   "metadata": {},
   "outputs": [
    {
     "data": {
      "text/plain": [
       "[6, 4, 2]"
      ]
     },
     "execution_count": 93,
     "metadata": {},
     "output_type": "execute_result"
    }
   ],
   "source": [
    "l[::-2]"
   ]
  },
  {
   "cell_type": "code",
   "execution_count": 4,
   "id": "e624e419",
   "metadata": {},
   "outputs": [
    {
     "data": {
      "text/plain": [
       "{('k1', 'v1'), ('k2', 'v2')}"
      ]
     },
     "execution_count": 4,
     "metadata": {},
     "output_type": "execute_result"
    }
   ],
   "source": [
    "d = {'k1':'v1','k2':'v2'}\n",
    "a = set(d.items())\n",
    "a"
   ]
  },
  {
   "cell_type": "code",
   "execution_count": 5,
   "id": "9ea800d1",
   "metadata": {},
   "outputs": [
    {
     "name": "stdout",
     "output_type": "stream",
     "text": [
      "1\n",
      "2\n",
      "3\n",
      "4\n",
      "5\n"
     ]
    }
   ],
   "source": [
    "a = {1,2,3,4,5}\n",
    "for ele in a:\n",
    "    print(ele)"
   ]
  },
  {
   "cell_type": "code",
   "execution_count": 26,
   "id": "923b2cd5",
   "metadata": {},
   "outputs": [
    {
     "data": {
      "text/plain": [
       "{1, 2, 3, 4}"
      ]
     },
     "execution_count": 26,
     "metadata": {},
     "output_type": "execute_result"
    }
   ],
   "source": [
    "my_data = [1, 2, 3, 4]\n",
    "my_set = set(my_data)\n",
    "my_setå"
   ]
  },
  {
   "cell_type": "code",
   "execution_count": 36,
   "id": "811f4d97",
   "metadata": {},
   "outputs": [
    {
     "name": "stdout",
     "output_type": "stream",
     "text": [
      "{(7, 8, 9), (1, 2, 3), (4, 5, 6)}\n",
      "{(7, 8, 9), (1, 2, 3), (4, 5, 6)}\n",
      "{(7, 8, 9), (1, 2, 3), (4, 5, 6)}\n"
     ]
    },
    {
     "data": {
      "text/plain": [
       "{(1, 2, 3), (4, 5, 6), (7, 8, 9)}"
      ]
     },
     "execution_count": 36,
     "metadata": {},
     "output_type": "execute_result"
    }
   ],
   "source": [
    "my_data = [[1, 2, 3], [4,5,6], [7,8,9]]\n",
    "my_set = set()\n",
    "\n",
    "for ele in my_data:\n",
    "    my_set.add(tuple(ele))\n",
    "    print(myset)\n",
    "\n",
    "# my_set = set(tuple(my_data))\n",
    "my_set"
   ]
  },
  {
   "cell_type": "code",
   "execution_count": 41,
   "id": "5d95a9b4",
   "metadata": {},
   "outputs": [],
   "source": [
    "c = tuple('string')"
   ]
  },
  {
   "cell_type": "code",
   "execution_count": 48,
   "id": "6c2ffa48",
   "metadata": {},
   "outputs": [
    {
     "data": {
      "text/plain": [
       "(1, 2, 3, [5, 6])"
      ]
     },
     "execution_count": 48,
     "metadata": {},
     "output_type": "execute_result"
    }
   ],
   "source": [
    "l=[1,2,3,[5,6]]\n",
    "c=tuple(l)\n",
    "c"
   ]
  },
  {
   "cell_type": "code",
   "execution_count": 51,
   "id": "4dd3c451",
   "metadata": {},
   "outputs": [
    {
     "data": {
      "text/plain": [
       "(1, 2, 3, [5, 6, 7, 7])"
      ]
     },
     "execution_count": 51,
     "metadata": {},
     "output_type": "execute_result"
    }
   ],
   "source": [
    "c[3].append(7)\n",
    "c"
   ]
  },
  {
   "cell_type": "code",
   "execution_count": 56,
   "id": "337458ac",
   "metadata": {},
   "outputs": [
    {
     "data": {
      "text/plain": [
       "[(1, 2, 3), (4, 5, 6), (7, 8, 9)]"
      ]
     },
     "execution_count": 56,
     "metadata": {},
     "output_type": "execute_result"
    }
   ],
   "source": [
    "some_tuples = [(1,2,3), (4,5,6), (7,8,9)]\n",
    "some_lists = [tup for tup in some_tuples]\n",
    "some_lists"
   ]
  },
  {
   "cell_type": "code",
   "execution_count": 57,
   "id": "708be19f",
   "metadata": {},
   "outputs": [
    {
     "ename": "SyntaxError",
     "evalue": "non-default argument follows default argument (2441747727.py, line 1)",
     "output_type": "error",
     "traceback": [
      "\u001b[0;36m  File \u001b[0;32m\"/var/folders/0r/_568dtlx1ksbtyyp1djps8j80000gn/T/ipykernel_26709/2441747727.py\"\u001b[0;36m, line \u001b[0;32m1\u001b[0m\n\u001b[0;31m    def my_func(z=0, x,y):\u001b[0m\n\u001b[0m                       ^\u001b[0m\n\u001b[0;31mSyntaxError\u001b[0m\u001b[0;31m:\u001b[0m non-default argument follows default argument\n"
     ]
    }
   ],
   "source": [
    "def my_func(z=0, x,y):\n",
    "    return x+y+z"
   ]
  },
  {
   "cell_type": "code",
   "execution_count": 71,
   "id": "e6faec8a",
   "metadata": {},
   "outputs": [],
   "source": [
    "def my_func(x,y,z=0):\n",
    "    return x+y+z"
   ]
  },
  {
   "cell_type": "code",
   "execution_count": 65,
   "id": "1868ed6f",
   "metadata": {},
   "outputs": [
    {
     "data": {
      "text/plain": [
       "6"
      ]
     },
     "execution_count": 65,
     "metadata": {},
     "output_type": "execute_result"
    }
   ],
   "source": [
    "my_func(1,2,3)"
   ]
  },
  {
   "cell_type": "code",
   "execution_count": 70,
   "id": "295b5b59",
   "metadata": {},
   "outputs": [
    {
     "data": {
      "text/plain": [
       "6"
      ]
     },
     "execution_count": 70,
     "metadata": {},
     "output_type": "execute_result"
    }
   ],
   "source": [
    "my_func(y=2,x=1)"
   ]
  },
  {
   "cell_type": "code",
   "execution_count": 127,
   "id": "b98a874b",
   "metadata": {},
   "outputs": [],
   "source": [
    "def cal_sum (x,y,z):\n",
    "    return x+y+z\n",
    "\n",
    "def cal_prod (x,y,z):\n",
    "    return x*y*z\n",
    "\n",
    "def cal_sub (x,y,z):\n",
    "    return x-y-z\n",
    "\n",
    "def cal(x,y,z,ops):\n",
    "    k = []\n",
    "    for op in ops:\n",
    "        l = []\n",
    "        for sub_op in op:\n",
    "            print('loop: ', l)\n",
    "            l.append(sub_op(x,y,z))\n",
    "        k.extend([l])\n",
    "    return k"
   ]
  },
  {
   "cell_type": "code",
   "execution_count": 128,
   "id": "81545287",
   "metadata": {},
   "outputs": [
    {
     "name": "stdout",
     "output_type": "stream",
     "text": [
      "loop:  []\n",
      "loop:  [16]\n",
      "loop:  [16, 50]\n",
      "loop:  []\n",
      "loop:  [16]\n",
      "loop:  []\n"
     ]
    },
    {
     "data": {
      "text/plain": [
       "[[16, 50, -14], [16, 50], [50]]"
      ]
     },
     "execution_count": 128,
     "metadata": {},
     "output_type": "execute_result"
    }
   ],
   "source": [
    "ops_1 = [cal_sum,cal_prod,cal_sub]\n",
    "ops_2 = [cal_sum,cal_prod]\n",
    "ops_3 = [cal_prod]\n",
    "ops_4 = [ops_1,ops_2,ops_3]\n",
    "\n",
    "cal(1,5,10,ops_4)"
   ]
  },
  {
   "cell_type": "code",
   "execution_count": null,
   "id": "ae8115d8",
   "metadata": {},
   "outputs": [],
   "source": []
  }
 ],
 "metadata": {
  "kernelspec": {
   "display_name": "Python 3 (ipykernel)",
   "language": "python",
   "name": "python3"
  },
  "language_info": {
   "codemirror_mode": {
    "name": "ipython",
    "version": 3
   },
   "file_extension": ".py",
   "mimetype": "text/x-python",
   "name": "python",
   "nbconvert_exporter": "python",
   "pygments_lexer": "ipython3",
   "version": "3.9.13"
  }
 },
 "nbformat": 4,
 "nbformat_minor": 5
}
