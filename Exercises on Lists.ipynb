{
 "cells": [
  {
   "cell_type": "code",
   "execution_count": 34,
   "id": "0967675a",
   "metadata": {},
   "outputs": [
    {
     "name": "stdout",
     "output_type": "stream",
     "text": [
      "5050\n"
     ]
    }
   ],
   "source": [
    " #Write a Python program to sum all the items in a list.\n",
    "    \n",
    "l = range(101)\n",
    "new_l = list(l)\n",
    "sum = 0\n",
    "for i in new_l :\n",
    "    sum = sum+i\n",
    "print(sum)"
   ]
  },
  {
   "cell_type": "code",
   "execution_count": 9,
   "id": "41b92871",
   "metadata": {},
   "outputs": [
    {
     "name": "stdout",
     "output_type": "stream",
     "text": [
      "-5\n"
     ]
    }
   ],
   "source": [
    "def sum_list(items):\n",
    "    sum_numbers = 0\n",
    "    for x in items:\n",
    "        sum_numbers += x\n",
    "    return sum_numbers\n",
    "print(sum_list([1,2,-8]))"
   ]
  },
  {
   "cell_type": "code",
   "execution_count": 13,
   "id": "d2607a8e",
   "metadata": {},
   "outputs": [
    {
     "name": "stdout",
     "output_type": "stream",
     "text": [
      "8\n"
     ]
    }
   ],
   "source": [
    "#Write a Python program to multiply all the items in a list\n",
    "\n",
    "def mult_list(items) :\n",
    "    mult_list = 1\n",
    "    for x in items:\n",
    "        mult_list = x*mult_list\n",
    "    return mult_list\n",
    "print(mult_list([1,2,4]))"
   ]
  },
  {
   "cell_type": "code",
   "execution_count": 35,
   "id": "d566dbfa",
   "metadata": {},
   "outputs": [
    {
     "data": {
      "text/plain": [
       "77"
      ]
     },
     "execution_count": 35,
     "metadata": {},
     "output_type": "execute_result"
    }
   ],
   "source": [
    "#3. Write a Python program to get the largest number from a list.\n",
    "items = [1,2,55,77,3,-9,-77]\n",
    "\n",
    "def larg_list(items) :\n",
    "    large = items[0]\n",
    "    for x in items :\n",
    "        if x > large: \n",
    "            large = x\n",
    "        else: \n",
    "            pass \n",
    "    return large\n",
    "\n",
    "\n",
    "larg_list(items)"
   ]
  },
  {
   "cell_type": "code",
   "execution_count": 36,
   "id": "17adb157",
   "metadata": {},
   "outputs": [
    {
     "data": {
      "text/plain": [
       "-77"
      ]
     },
     "execution_count": 36,
     "metadata": {},
     "output_type": "execute_result"
    }
   ],
   "source": [
    "#4. Write a Python program to get the smallest number from a list\n",
    "items = [1,2,55,77,3,-9,-77]\n",
    "\n",
    "def small_list(items) :\n",
    "    small = items[0]\n",
    "    for x in items :\n",
    "        if x < small: \n",
    "            small = x\n",
    "        else: \n",
    "            pass \n",
    "    return small\n",
    "\n",
    "\n",
    "small_list(items)"
   ]
  },
  {
   "cell_type": "markdown",
   "id": "8124c093",
   "metadata": {},
   "source": [
    "#5. Write a Python program to count the number of strings from a given list of strings. The string length is 2 or more and the first and last characters are the same."
   ]
  },
  {
   "cell_type": "code",
   "execution_count": 46,
   "id": "57eac978",
   "metadata": {},
   "outputs": [
    {
     "data": {
      "text/plain": [
       "2"
      ]
     },
     "execution_count": 46,
     "metadata": {},
     "output_type": "execute_result"
    }
   ],
   "source": [
    "items =  ['abc', 'xyz', 'aba', '1221']\n",
    "\n",
    "def count_str(items) :\n",
    "    l = 0\n",
    "    for i in items :\n",
    "        if i[0] == i[-1] and len(i) >= 2 :\n",
    "            l = l+1\n",
    "    return l\n",
    "\n",
    "count_str(items)"
   ]
  },
  {
   "cell_type": "markdown",
   "id": "693985a1",
   "metadata": {},
   "source": [
    "6. Write a Python program to get a list, sorted in increasing order by the last element in each tuple from a given list of non-empty tuples."
   ]
  },
  {
   "cell_type": "code",
   "execution_count": 47,
   "id": "6b5215ea",
   "metadata": {},
   "outputs": [
    {
     "name": "stdout",
     "output_type": "stream",
     "text": [
      "[(2, 1), (1, 2), (2, 3), (4, 4), (2, 5)]\n"
     ]
    }
   ],
   "source": [
    "# O(nlogn) T, O(1) S\n",
    "\n",
    "items =  [(2, 5), (1, 2), (4, 4), (2, 3), (2, 1)]\n",
    "\n",
    "def last(n): \n",
    "    return n[-1]\n",
    "\n",
    "def sort_list_last(tuples):\n",
    "    return sorted(tuples, key=last)\n",
    "\n",
    "print(sort_list_last([(2, 5), (1, 2), (4, 4), (2, 3), (2, 1)]))"
   ]
  },
  {
   "cell_type": "code",
   "execution_count": 58,
   "id": "6792eabb",
   "metadata": {},
   "outputs": [
    {
     "name": "stdout",
     "output_type": "stream",
     "text": [
      "[5, 7, 8, 9]\n"
     ]
    }
   ],
   "source": [
    "#7. Write a Python program to remove duplicates from a list.\n",
    "# O(n) Time, O(n) Space\n",
    "\n",
    "items = [5,5,5,7,8,9]\n",
    "\n",
    "def unique(items) :\n",
    "    l = []\n",
    "    for i in items :\n",
    "        if i not in l :\n",
    "            l.append(i)\n",
    "    return l\n",
    "    \n",
    "print(unique(items))"
   ]
  },
  {
   "cell_type": "code",
   "execution_count": null,
   "id": "1c14cda3",
   "metadata": {},
   "outputs": [],
   "source": [
    "# O(n) Time, O(n) Space\n",
    "set(items)"
   ]
  },
  {
   "cell_type": "code",
   "execution_count": 60,
   "id": "ef6d90f2",
   "metadata": {},
   "outputs": [
    {
     "name": "stdout",
     "output_type": "stream",
     "text": [
      "list is empty\n"
     ]
    }
   ],
   "source": [
    "#8. Write a Python program to check if a list is empty or not.\n",
    "\n",
    "items = []\n",
    "\n",
    "def empty(items) :\n",
    "        if len(items) > 0 :\n",
    "            print('list is not empty')\n",
    "        else :\n",
    "            print('list is empty')\n",
    "\n",
    "    \n",
    "empty(items)"
   ]
  },
  {
   "cell_type": "code",
   "execution_count": 61,
   "id": "f9feb796",
   "metadata": {},
   "outputs": [
    {
     "name": "stdout",
     "output_type": "stream",
     "text": [
      "List is empty\n"
     ]
    }
   ],
   "source": [
    "l = [\n",
    "    \n",
    "]\n",
    "if not l:\n",
    "    print(\"List is empty\")"
   ]
  },
  {
   "cell_type": "code",
   "execution_count": 62,
   "id": "5b628e6a",
   "metadata": {},
   "outputs": [
    {
     "data": {
      "text/plain": [
       "[5, 5, 5, 7, 8, 9]"
      ]
     },
     "execution_count": 62,
     "metadata": {},
     "output_type": "execute_result"
    }
   ],
   "source": [
    "#9. Write a Python program to clone or copy a list.\n",
    "\n",
    "items = [5,5,5,7,8,9]\n",
    "\n",
    "def clone(items) :\n",
    "    l = []\n",
    "    for i in items:\n",
    "        l.append(i)\n",
    "    return l\n",
    "\n",
    "clone(items)"
   ]
  },
  {
   "cell_type": "code",
   "execution_count": 65,
   "id": "685aeb8d",
   "metadata": {},
   "outputs": [
    {
     "data": {
      "text/plain": [
       "['wishj', 'string']"
      ]
     },
     "execution_count": 65,
     "metadata": {},
     "output_type": "execute_result"
    }
   ],
   "source": [
    "#10. Write a Python program to find the list of words that are longer than n from a given list of words.\n",
    "\n",
    "items = ['how','wishj', 'string']\n",
    "\n",
    "def length(items,n) :\n",
    "    l = []\n",
    "    for i in items:\n",
    "        if len(i) > n :\n",
    "            l.append(i)\n",
    "    return l\n",
    "\n",
    "length(items,3)"
   ]
  },
  {
   "cell_type": "code",
   "execution_count": 71,
   "id": "61b73dca",
   "metadata": {},
   "outputs": [
    {
     "name": "stdout",
     "output_type": "stream",
     "text": [
      "True\n",
      "None\n"
     ]
    }
   ],
   "source": [
    "#11. Write a Python function that takes two lists and returns True if they have at least one common member.\n",
    "\n",
    "def common_data(list1, list2):\n",
    "    result = False\n",
    "    for x in list1:\n",
    "            for y in list2:\n",
    "                if x == y:\n",
    "                    result = True\n",
    "                    return result\n",
    "                \n",
    "print(common_data([1,2,3,4,5], [5,6,7,8,9]))\n",
    "print(common_data([1,2,3,4,5], [6,7,8,9]))"
   ]
  },
  {
   "cell_type": "code",
   "execution_count": 75,
   "id": "d1a53534",
   "metadata": {},
   "outputs": [
    {
     "data": {
      "text/plain": [
       "[2, 3, 5]"
      ]
     },
     "execution_count": 75,
     "metadata": {},
     "output_type": "execute_result"
    }
   ],
   "source": [
    "#12. Write a Python program to print a specified list after removing the 0th, 4th and 5th elements.\n",
    "\n",
    "def spec_list(items):\n",
    "    l = []\n",
    "    for index,x in enumerate(items):\n",
    "        if index not in (0,4,5):\n",
    "            l.append(x)\n",
    "        else :\n",
    "            pass\n",
    "    return l\n",
    "\n",
    "items = [1,2,3,5,6]\n",
    "spec_list(items)"
   ]
  },
  {
   "cell_type": "code",
   "execution_count": 77,
   "id": "4f6bbc7d",
   "metadata": {},
   "outputs": [
    {
     "ename": "SyntaxError",
     "evalue": "invalid syntax (2304622491.py, line 7)",
     "output_type": "error",
     "traceback": [
      "\u001b[0;36m  File \u001b[0;32m\"/var/folders/0r/_568dtlx1ksbtyyp1djps8j80000gn/T/ipykernel_65191/2304622491.py\"\u001b[0;36m, line \u001b[0;32m7\u001b[0m\n\u001b[0;31m    array.append(*)*n\u001b[0m\n\u001b[0m                  ^\u001b[0m\n\u001b[0;31mSyntaxError\u001b[0m\u001b[0;31m:\u001b[0m invalid syntax\n"
     ]
    }
   ],
   "source": [
    "#13. Write a Python program to generate a 3*4*6 3D array whose each element is *.\n",
    "\n",
    "def array_list(n) :\n",
    "    array = []\n",
    "    for i in range(n) :\n",
    "        if n < n+3 :\n",
    "            array.append(*)*n\n",
    "    return array"
   ]
  },
  {
   "cell_type": "code",
   "execution_count": 79,
   "id": "8354410e",
   "metadata": {},
   "outputs": [
    {
     "name": "stdout",
     "output_type": "stream",
     "text": [
      "[[['*', '*', '*', '*', '*', '*'], ['*', '*', '*', '*', '*', '*'], ['*', '*', '*', '*', '*', '*'], ['*', '*', '*', '*', '*', '*']], [['*', '*', '*', '*', '*', '*'], ['*', '*', '*', '*', '*', '*'], ['*', '*', '*', '*', '*', '*'], ['*', '*', '*', '*', '*', '*']], [['*', '*', '*', '*', '*', '*'], ['*', '*', '*', '*', '*', '*'], ['*', '*', '*', '*', '*', '*'], ['*', '*', '*', '*', '*', '*']]]\n"
     ]
    }
   ],
   "source": [
    "array = [[ ['*' for col in range(6)] for col in range(4)] for row in range(3)]\n",
    "print(array)"
   ]
  },
  {
   "cell_type": "code",
   "execution_count": 81,
   "id": "8d856148",
   "metadata": {},
   "outputs": [
    {
     "data": {
      "text/plain": [
       "[1, 3, 55, 77, 33]"
      ]
     },
     "execution_count": 81,
     "metadata": {},
     "output_type": "execute_result"
    }
   ],
   "source": [
    "#14. Write a Python program to print the numbers of a specified list after removing even numbers from it\n",
    "\n",
    "def print_odd(items):\n",
    "    l = []\n",
    "    for i in items:\n",
    "        if i%2 == 1:\n",
    "            l.append(i)\n",
    "    return l\n",
    "\n",
    "items = [1,2,3,0,55,92,77,33]\n",
    "print_odd(items)"
   ]
  },
  {
   "cell_type": "code",
   "execution_count": 23,
   "id": "a737e82e",
   "metadata": {},
   "outputs": [
    {
     "data": {
      "text/plain": [
       "1"
      ]
     },
     "execution_count": 23,
     "metadata": {},
     "output_type": "execute_result"
    }
   ],
   "source": [
    "5%2"
   ]
  },
  {
   "cell_type": "code",
   "execution_count": 27,
   "id": "0f8079cb",
   "metadata": {},
   "outputs": [
    {
     "data": {
      "text/plain": [
       "2.5"
      ]
     },
     "execution_count": 27,
     "metadata": {},
     "output_type": "execute_result"
    }
   ],
   "source": [
    "a = 5/2\n",
    "a"
   ]
  },
  {
   "cell_type": "code",
   "execution_count": 28,
   "id": "94e04efd",
   "metadata": {},
   "outputs": [
    {
     "data": {
      "text/plain": [
       "10"
      ]
     },
     "execution_count": 28,
     "metadata": {},
     "output_type": "execute_result"
    }
   ],
   "source": [
    "5*2"
   ]
  },
  {
   "cell_type": "code",
   "execution_count": 29,
   "id": "0412daa7",
   "metadata": {},
   "outputs": [
    {
     "data": {
      "text/plain": [
       "7"
      ]
     },
     "execution_count": 29,
     "metadata": {},
     "output_type": "execute_result"
    }
   ],
   "source": [
    "5^2"
   ]
  },
  {
   "cell_type": "code",
   "execution_count": 82,
   "id": "bf0e6ee6",
   "metadata": {},
   "outputs": [
    {
     "name": "stdout",
     "output_type": "stream",
     "text": [
      "['Yellow', 'Pink', 'Green', 'Black', 'Red', 'White']\n"
     ]
    }
   ],
   "source": [
    "#15. Write a Python program to shuffle and print a specified list.\n",
    "\n",
    "from random import shuffle\n",
    "color = ['Red', 'Green', 'White', 'Black', 'Pink', 'Yellow']\n",
    "shuffle(color)\n",
    "print(color)"
   ]
  },
  {
   "cell_type": "code",
   "execution_count": 97,
   "id": "bb8e813f",
   "metadata": {},
   "outputs": [
    {
     "name": "stdout",
     "output_type": "stream",
     "text": [
      "[1, 4, 9, 16, 25]\n",
      "[676, 729, 784, 841, 900]\n"
     ]
    }
   ],
   "source": [
    "#16. Write a Python program to generate and print a list of the first and last 5 elements \n",
    "#where the values are square numbers between 1 and 30 (both included)\n",
    "\n",
    "def first_last_list():\n",
    "    l = []\n",
    "    for i in range(1,31):\n",
    "        l.append(i*i)\n",
    "    print(l[:5])\n",
    "    print(l[-5:])\n",
    "    \n",
    "first_last_list()  "
   ]
  },
  {
   "cell_type": "code",
   "execution_count": 108,
   "id": "0b148f23",
   "metadata": {},
   "outputs": [
    {
     "ename": "TypeError",
     "evalue": "unsupported operand type(s) for %: 'list' and 'int'",
     "output_type": "error",
     "traceback": [
      "\u001b[0;31m---------------------------------------------------------------------------\u001b[0m",
      "\u001b[0;31mTypeError\u001b[0m                                 Traceback (most recent call last)",
      "\u001b[0;32m/var/folders/0r/_568dtlx1ksbtyyp1djps8j80000gn/T/ipykernel_65191/407306302.py\u001b[0m in \u001b[0;36m<module>\u001b[0;34m\u001b[0m\n\u001b[1;32m     14\u001b[0m \u001b[0;34m\u001b[0m\u001b[0m\n\u001b[1;32m     15\u001b[0m \u001b[0mitems\u001b[0m \u001b[0;34m=\u001b[0m \u001b[0;34m[\u001b[0m\u001b[0;36m2\u001b[0m\u001b[0;34m,\u001b[0m\u001b[0;36m3\u001b[0m\u001b[0;34m,\u001b[0m\u001b[0;36m5\u001b[0m\u001b[0;34m,\u001b[0m\u001b[0;36m7\u001b[0m\u001b[0;34m,\u001b[0m\u001b[0;36m8\u001b[0m\u001b[0;34m]\u001b[0m\u001b[0;34m\u001b[0m\u001b[0;34m\u001b[0m\u001b[0m\n\u001b[0;32m---> 16\u001b[0;31m \u001b[0mcheck_prime\u001b[0m\u001b[0;34m(\u001b[0m\u001b[0mitems\u001b[0m\u001b[0;34m)\u001b[0m\u001b[0;34m\u001b[0m\u001b[0;34m\u001b[0m\u001b[0m\n\u001b[0m",
      "\u001b[0;32m/var/folders/0r/_568dtlx1ksbtyyp1djps8j80000gn/T/ipykernel_65191/407306302.py\u001b[0m in \u001b[0;36mcheck_prime\u001b[0;34m(n)\u001b[0m\n\u001b[1;32m      3\u001b[0m \u001b[0;34m\u001b[0m\u001b[0m\n\u001b[1;32m      4\u001b[0m \u001b[0;32mdef\u001b[0m \u001b[0mcheck_prime\u001b[0m\u001b[0;34m(\u001b[0m\u001b[0mn\u001b[0m\u001b[0;34m)\u001b[0m\u001b[0;34m:\u001b[0m\u001b[0;34m\u001b[0m\u001b[0;34m\u001b[0m\u001b[0m\n\u001b[0;32m----> 5\u001b[0;31m     \u001b[0;32mif\u001b[0m \u001b[0mn\u001b[0m\u001b[0;34m%\u001b[0m\u001b[0;36m6\u001b[0m \u001b[0;34m==\u001b[0m \u001b[0;36m1\u001b[0m \u001b[0;32mor\u001b[0m \u001b[0;36m5\u001b[0m\u001b[0;34m:\u001b[0m\u001b[0;34m\u001b[0m\u001b[0;34m\u001b[0m\u001b[0m\n\u001b[0m\u001b[1;32m      6\u001b[0m         \u001b[0mresult\u001b[0m \u001b[0;34m=\u001b[0m \u001b[0;32mTrue\u001b[0m\u001b[0;34m\u001b[0m\u001b[0;34m\u001b[0m\u001b[0m\n\u001b[1;32m      7\u001b[0m     \u001b[0;32mreturn\u001b[0m \u001b[0;32mFalse\u001b[0m\u001b[0;34m\u001b[0m\u001b[0;34m\u001b[0m\u001b[0m\n",
      "\u001b[0;31mTypeError\u001b[0m: unsupported operand type(s) for %: 'list' and 'int'"
     ]
    }
   ],
   "source": [
    "#17. Write a Python program to check if each number is prime in a given list of numbers. \n",
    "#Return True if all numbers are prime otherwise False.\n",
    "\n",
    "def check_prime(n):\n",
    "    if n%6 == 1 or 5:\n",
    "        result = True\n",
    "    return False\n",
    "    \n",
    "def is_prime(items):           \n",
    "    for i in items :\n",
    "        if check_prime(i) is false:\n",
    "            return 'False'\n",
    "    return true\n",
    "\n",
    "items = [2,3,5,7,8]\n",
    "check_prime(items)"
   ]
  },
  {
   "cell_type": "code",
   "execution_count": 111,
   "id": "c79d92a8",
   "metadata": {},
   "outputs": [
    {
     "name": "stdout",
     "output_type": "stream",
     "text": [
      "True\n"
     ]
    }
   ],
   "source": [
    "def is_prime(n):\n",
    "    if n < 2:\n",
    "        return False\n",
    "    if n == 2 or n == 3:\n",
    "        return True\n",
    "    if n % 2 == 0 or n % 3 == 0:\n",
    "        return False\n",
    "    \n",
    "    i = 5\n",
    "    while i * i <= n:\n",
    "        if n % i == 0 or n % (i + 2) == 0:\n",
    "            return False\n",
    "        i = i+6\n",
    "    \n",
    "    return True\n",
    "\n",
    "def check_prime(items):\n",
    "    for num in items:\n",
    "        if not is_prime(num):\n",
    "            return False\n",
    "    return True\n",
    "\n",
    "items = [2, 3, 5, 7, 3]\n",
    "result = check_prime(items)\n",
    "print(result)"
   ]
  },
  {
   "cell_type": "code",
   "execution_count": 112,
   "id": "5289e065",
   "metadata": {},
   "outputs": [
    {
     "name": "stdout",
     "output_type": "stream",
     "text": [
      "[(1, 2, 3), (1, 3, 2), (2, 1, 3), (2, 3, 1), (3, 1, 2), (3, 2, 1)]\n"
     ]
    }
   ],
   "source": [
    "#18. Write a Python program to generate all permutations of a list in Python\n",
    "\n",
    "import itertools\n",
    "print(list(itertools.permutations([1,2,3])))"
   ]
  },
  {
   "cell_type": "code",
   "execution_count": 122,
   "id": "98ae92e0",
   "metadata": {},
   "outputs": [
    {
     "data": {
      "text/plain": [
       "[1, 4, 5, 7, 8, 9]"
      ]
     },
     "execution_count": 122,
     "metadata": {},
     "output_type": "execute_result"
    }
   ],
   "source": [
    "#19. Write a Python program to calculate the difference between the two lists.\n",
    "\n",
    "l1 = [1,2,3,4,7,8,6]\n",
    "l2 = [2,3,5,6,9]\n",
    "\n",
    "def diff_list(l1,l2):\n",
    "    result=[]\n",
    "    for x in l1:\n",
    "        if x not in l2 :\n",
    "            result.append(x)\n",
    "    for y in l2:\n",
    "        if y not in l1:\n",
    "            result.append(y)\n",
    "    return result\n",
    "\n",
    "diff_list(l1,l2)\n",
    "\n",
    "def diff_list_using_set(l1,l2):\n",
    "    diff1 = list(set(l1)-set(l2))\n",
    "    diff2 = list(set(l2)-set(l1))\n",
    "    total_diff = diff1+diff2\n",
    "    total_diff.sort()\n",
    "    return total_diff\n",
    "\n",
    "diff_list_using_set(l1,l2)"
   ]
  },
  {
   "cell_type": "code",
   "execution_count": 124,
   "id": "51d840f0",
   "metadata": {},
   "outputs": [
    {
     "data": {
      "text/plain": [
       "[(0, 1), (1, 3), (2, 4), (3, 5), (4, 63), (5, 5)]"
      ]
     },
     "execution_count": 124,
     "metadata": {},
     "output_type": "execute_result"
    }
   ],
   "source": [
    "#20.Write a Python program to access the index of a list.\n",
    "\n",
    "def index_list(items):\n",
    "    result=[]\n",
    "    for index,i in enumerate(items):\n",
    "        tup = (index, i)\n",
    "        result.append(tup) \n",
    "    return result\n",
    "\n",
    "items = [1,3,4,5,63,5]\n",
    "index_list(items)"
   ]
  },
  {
   "cell_type": "code",
   "execution_count": 138,
   "id": "be8a19fe",
   "metadata": {},
   "outputs": [
    {
     "name": "stdout",
     "output_type": "stream",
     "text": [
      "i am v k\n"
     ]
    }
   ],
   "source": [
    "#21.Write a Python program to convert a list of characters into a string.\n",
    "\n",
    "items = ['v','a','i','s','h','n','a','v','i','/']\n",
    "\n",
    "#(O(n2)) complexity\n",
    "def convert_list_string(items):\n",
    "    result = ''\n",
    "    for i in items:\n",
    "        result = result+i\n",
    "    return result\n",
    "\n",
    "convert_list_string(items)\n",
    "\n",
    "#second method (O(n)) complexity\n",
    "s = ['i', 'am', 'v', 'k']\n",
    "str1 = ' '.join(s)\n",
    "print(str1)"
   ]
  },
  {
   "cell_type": "code",
   "execution_count": 144,
   "id": "41a0c65d",
   "metadata": {},
   "outputs": [
    {
     "data": {
      "text/plain": [
       "4"
      ]
     },
     "execution_count": 144,
     "metadata": {},
     "output_type": "execute_result"
    }
   ],
   "source": [
    "#22. Write a Python program to find the index of an item in a specified list.\n",
    "items = [1,2,4,5,6,77,7]\n",
    "\n",
    "def index(items,n):\n",
    "    for index,i in enumerate(items):\n",
    "        if i==n:\n",
    "            return index\n",
    "    \n",
    "index(items,6)"
   ]
  },
  {
   "cell_type": "code",
   "execution_count": 151,
   "id": "7d96716f",
   "metadata": {},
   "outputs": [
    {
     "data": {
      "text/plain": [
       "[1, 2, 3, 4, 5, 6, 7]"
      ]
     },
     "execution_count": 151,
     "metadata": {},
     "output_type": "execute_result"
    }
   ],
   "source": [
    "#23. Write a Python program to flatten a shallow list.\n",
    "items = [[1,2,3],[4,5],[6],7]\n",
    "\n",
    "def flatten_list(items):\n",
    "    result=[]\n",
    "    for i in items:\n",
    "        if type(i) is list:\n",
    "            for j in i:\n",
    "                result.append(j)\n",
    "        else:\n",
    "            result.append(i)\n",
    "    return result\n",
    "\n",
    "flatten_list(items)"
   ]
  },
  {
   "cell_type": "code",
   "execution_count": 158,
   "id": "7a348aa5",
   "metadata": {},
   "outputs": [
    {
     "name": "stdout",
     "output_type": "stream",
     "text": [
      "[1, 2, 3, 1, 3, 5]\n"
     ]
    }
   ],
   "source": [
    "#24. Write a Python program to append a list to the second list.\n",
    "\n",
    "l1 = [1,2,3]\n",
    "l2 = [1,3,5]\n",
    "\n",
    "l1.extend(l2)\n",
    "print(l1)"
   ]
  },
  {
   "cell_type": "code",
   "execution_count": 159,
   "id": "f3c11bdf",
   "metadata": {},
   "outputs": [
    {
     "name": "stdout",
     "output_type": "stream",
     "text": [
      "Black\n"
     ]
    }
   ],
   "source": [
    "#25. Write a Python program to select an item randomly from a list\n",
    "\n",
    "import random\n",
    "color_list = ['Red', 'Blue', 'Green', 'White', 'Black']\n",
    "print(random.choice(color_list))"
   ]
  },
  {
   "cell_type": "code",
   "execution_count": 171,
   "id": "3db6d77a",
   "metadata": {},
   "outputs": [
    {
     "data": {
      "text/plain": [
       "True"
      ]
     },
     "execution_count": 171,
     "metadata": {},
     "output_type": "execute_result"
    }
   ],
   "source": [
    "#26. Write a Python program to check whether two lists are circularly identical.\n",
    "l1 = [1,2,3,5,6,7]\n",
    "l2 = [2,3,5,6,7,1]\n",
    "\n",
    "def check_identical(l1,l2):\n",
    "    for i in range(len(l1)):\n",
    "        if l1[i] != l2[i]:\n",
    "            return False\n",
    "    return True\n",
    "            \n",
    "def circular_list(l1,l2):\n",
    "    for index1,x in enumerate(l1):\n",
    "        for index2,y in enumerate(l2):\n",
    "            if x == y:\n",
    "                l3 = l1[index1:]+l1[:index1-1]\n",
    "                l4 = l2[index2:]+l2[:index2-1]\n",
    "    return check_identical(l3,l4)\n",
    "\n",
    "circular_list(l1,l2)"
   ]
  },
  {
   "cell_type": "code",
   "execution_count": 173,
   "id": "7bd381e0",
   "metadata": {},
   "outputs": [
    {
     "data": {
      "text/plain": [
       "[1, 2, 3, 5, 6, 7, 2, 3, 5, 6, 7, 1]"
      ]
     },
     "execution_count": 173,
     "metadata": {},
     "output_type": "execute_result"
    }
   ],
   "source": [
    "l1 = [1,2,3,5,6,7]\n",
    "l2 = [2,3,5,6,7,1]\n",
    "l1.extend(l2)\n",
    "l1\n",
    "#extend is an inplace operation"
   ]
  },
  {
   "cell_type": "code",
   "execution_count": 10,
   "id": "6da439d4",
   "metadata": {},
   "outputs": [
    {
     "data": {
      "text/plain": [
       "3"
      ]
     },
     "execution_count": 10,
     "metadata": {},
     "output_type": "execute_result"
    }
   ],
   "source": [
    "#27. Write a Python program to find the second smallest number in a list.\n",
    "\n",
    "items = [25,2,3,4,52,45,23]\n",
    "\n",
    "def second_small(items):\n",
    "    x=sorted(items)\n",
    "    result = x[1]\n",
    "    return result\n",
    "\n",
    "second_small(items)\n",
    "\n",
    "#The sorted() function in Python has a time complexity of O(n log n), where 'n' is the number of elements in the input iterable. \n",
    "#The space complexity of sorted() is O(n), where 'n' is the number of elements in the input iterable.\n",
    "#sorted uses timsort algorithm. Timsort is a hybrid sorting algorithm derived from merge sort and insertion sort"
   ]
  },
  {
   "cell_type": "code",
   "execution_count": 12,
   "id": "b3f50d73",
   "metadata": {},
   "outputs": [
    {
     "name": "stdout",
     "output_type": "stream",
     "text": [
      "25 is greater than 2\n",
      "25 is greater than 3\n",
      "25 is greater than 4\n",
      "25 is greater than 23\n",
      "3 is greater than 2\n",
      "4 is greater than 2\n",
      "4 is greater than 3\n",
      "52 is greater than 2\n",
      "52 is greater than 3\n",
      "52 is greater than 4\n",
      "52 is greater than 45\n",
      "52 is greater than 23\n",
      "45 is greater than 2\n",
      "45 is greater than 3\n",
      "45 is greater than 4\n",
      "45 is greater than 23\n",
      "23 is greater than 2\n",
      "23 is greater than 3\n",
      "23 is greater than 4\n"
     ]
    }
   ],
   "source": [
    "#28. Write a Python program to find the second largest number in a list.\n",
    "\n",
    "\n",
    "items = [25,2,3,4,52,45,23]\n",
    "\n",
    "def greatest_num_twoforloops(items):\n",
    "    greatest = items[0]\n",
    "    for i in range(len(items)):\n",
    "        for j in range(1,len(items)):\n",
    "            if items[i] > items[j]:\n",
    "                print('{} is greater than {}'.format(items[i],items[j]))\n",
    "\n",
    "greatest_num(items)"
   ]
  },
  {
   "cell_type": "code",
   "execution_count": 15,
   "id": "952f284e",
   "metadata": {},
   "outputs": [
    {
     "data": {
      "text/plain": [
       "45"
      ]
     },
     "execution_count": 15,
     "metadata": {},
     "output_type": "execute_result"
    }
   ],
   "source": [
    "#28. Write a Python program to find the second largest number in a list.\n",
    "\n",
    "items = [25,2,3,4,52,45,23]\n",
    "\n",
    "def find_second_greatest(items):\n",
    "    greatest = items[0]\n",
    "    second_greatest = items[1] if items[1] < greatest else items[0]\n",
    "    \n",
    "    for num in items[2:]:\n",
    "        if num > greatest:\n",
    "            greatest = num\n",
    "        elif num > second_greatest:\n",
    "            second_greatest = num\n",
    "        else:\n",
    "            pass\n",
    "    return second_greatest\n",
    "\n",
    "find_second_greatest(items)         "
   ]
  },
  {
   "cell_type": "code",
   "execution_count": 17,
   "id": "2332515d",
   "metadata": {},
   "outputs": [
    {
     "data": {
      "text/plain": [
       "{2, 3, 4, 23, 25, 45, 52}"
      ]
     },
     "execution_count": 17,
     "metadata": {},
     "output_type": "execute_result"
    }
   ],
   "source": [
    "#29. Write a Python program to get unique values from a list.\n",
    "\n",
    "items = [25,25,3,2,2,3,4,52,45,23]\n",
    "\n",
    "result = set(items)\n",
    "result\n",
    "\n",
    "#set removes duplicates"
   ]
  },
  {
   "cell_type": "code",
   "execution_count": 22,
   "id": "42c720a3",
   "metadata": {},
   "outputs": [
    {
     "data": {
      "text/plain": [
       "[(25, 2),\n",
       " (25, 2),\n",
       " (3, 2),\n",
       " (2, 2),\n",
       " (2, 2),\n",
       " (3, 2),\n",
       " (4, 1),\n",
       " (52, 1),\n",
       " (45, 1),\n",
       " (23, 1)]"
      ]
     },
     "execution_count": 22,
     "metadata": {},
     "output_type": "execute_result"
    }
   ],
   "source": [
    "#30. Write a Python program to get the frequency of elements in a list.\n",
    "\n",
    "items = [25,25,3,2,2,3,4,52,45,23]\n",
    "\n",
    "def freq_element(items):\n",
    "    l=[]\n",
    "    for i in items:\n",
    "        tup = (i,items.count(i))\n",
    "        l.append(tup)\n",
    "    return l\n",
    "\n",
    "freq_element(items)"
   ]
  },
  {
   "cell_type": "code",
   "execution_count": null,
   "id": "cf856161",
   "metadata": {},
   "outputs": [],
   "source": [
    "#31. Write a Python program to count the number of elements in a list within a specified range.\n"
   ]
  },
  {
   "cell_type": "code",
   "execution_count": 33,
   "id": "c8501d78",
   "metadata": {},
   "outputs": [
    {
     "data": {
      "text/plain": [
       "[4, 3, 5, 2, 7, 8, 6, 9]"
      ]
     },
     "execution_count": 33,
     "metadata": {},
     "output_type": "execute_result"
    }
   ],
   "source": [
    "# 32 sort all odd numbers while leaving the even numbers as-is in the list\n",
    "\n",
    "def sort_list(l):\n",
    "    result = [1000] * len(l)\n",
    "    odd = []\n",
    "    \n",
    "    for i in range(len(l)):\n",
    "        if l[i] % 2 == 0:\n",
    "            result[i] = l[i]\n",
    "        else:\n",
    "            odd.append(l[i])\n",
    "\n",
    "    \n",
    "    odd = sorted(odd)\n",
    "    \n",
    "    for i in range(len(result)):\n",
    "        if result[i] == 1000:\n",
    "            result[i] = odd[0]\n",
    "            odd.pop(0)\n",
    "    \n",
    "    return result\n",
    "\n",
    "\n",
    "sort_list([4,7,9,2,3,8,6,5])"
   ]
  },
  {
   "cell_type": "code",
   "execution_count": null,
   "id": "b75a8050",
   "metadata": {},
   "outputs": [],
   "source": []
  }
 ],
 "metadata": {
  "kernelspec": {
   "display_name": "Python 3 (ipykernel)",
   "language": "python",
   "name": "python3"
  },
  "language_info": {
   "codemirror_mode": {
    "name": "ipython",
    "version": 3
   },
   "file_extension": ".py",
   "mimetype": "text/x-python",
   "name": "python",
   "nbconvert_exporter": "python",
   "pygments_lexer": "ipython3",
   "version": "3.9.13"
  }
 },
 "nbformat": 4,
 "nbformat_minor": 5
}
