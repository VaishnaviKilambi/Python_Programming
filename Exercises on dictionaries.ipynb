{
 "cells": [
  {
   "cell_type": "code",
   "execution_count": 33,
   "id": "7b8519a4",
   "metadata": {},
   "outputs": [
    {
     "data": {
      "text/plain": [
       "{1: 1, 2: 4, 3: 9, 4: 16, 5: 25, 6: 36, 7: 49, 8: 64}"
      ]
     },
     "execution_count": 33,
     "metadata": {},
     "output_type": "execute_result"
    }
   ],
   "source": [
    "#create dictionary\n",
    "\n",
    "l1 = [1,2,3,4,5,6,7,8]\n",
    "l2 = [1,4,9,16,25,36,49,64]\n",
    "d={}\n",
    "\n",
    "for i in range(len(l1)):\n",
    "    d[l1[i]] = l2[i]\n",
    "d"
   ]
  },
  {
   "cell_type": "code",
   "execution_count": 65,
   "id": "cecafa01",
   "metadata": {},
   "outputs": [
    {
     "data": {
      "text/plain": [
       "dict_keys"
      ]
     },
     "execution_count": 65,
     "metadata": {},
     "output_type": "execute_result"
    }
   ],
   "source": [
    "type(d.keys())"
   ]
  },
  {
   "cell_type": "code",
   "execution_count": 43,
   "id": "3e462157",
   "metadata": {},
   "outputs": [
    {
     "data": {
      "text/plain": [
       "['k1', 'k2', 'k3', 'k4']"
      ]
     },
     "execution_count": 43,
     "metadata": {},
     "output_type": "execute_result"
    }
   ],
   "source": [
    "#1. Write a Python script to sort (ascending and descending) a dictionary by value.\n",
    "d = {'k1':24,'k2':34,'k3':78,'k4':21}\n",
    "\n",
    "for key in sorted(d.keys()):\n",
    "    tup = (key,d[key])   \n",
    "tup"
   ]
  },
  {
   "cell_type": "code",
   "execution_count": 45,
   "id": "f2cfb209",
   "metadata": {},
   "outputs": [
    {
     "data": {
      "text/plain": [
       "{'k4': 21, 'k1': 24, 'k2': 34, 'k3': 78}"
      ]
     },
     "execution_count": 45,
     "metadata": {},
     "output_type": "execute_result"
    }
   ],
   "source": [
    "my_dict = {'k1':24,'k2':34,'k3':78,'k4':21}\n",
    "sorted_dict_asc = dict(sorted(my_dict.items(), key=lambda x: x[1]))\n",
    "sorted_dict_asc"
   ]
  },
  {
   "cell_type": "code",
   "execution_count": 49,
   "id": "f0df83d3",
   "metadata": {},
   "outputs": [
    {
     "name": "stdout",
     "output_type": "stream",
     "text": [
      "{'k3': 78, 'k2': 34, 'k1': 24, 'k4': 21}\n"
     ]
    }
   ],
   "source": [
    "sorted_dict_desc = dict(sorted(my_dict.items(), key=lambda x: x[1], reverse=True))\n",
    "print(sorted_dict_desc)\n",
    "#read sorted documentation https://docs.python.org/3/howto/sorting.html"
   ]
  },
  {
   "cell_type": "code",
   "execution_count": 14,
   "id": "804a487a",
   "metadata": {},
   "outputs": [
    {
     "data": {
      "text/plain": [
       "{'k1': 24, 'k2': 34, 'k3': 78, 'k4': 21, 'k5': 150}"
      ]
     },
     "execution_count": 14,
     "metadata": {},
     "output_type": "execute_result"
    }
   ],
   "source": [
    "#2.Write a Python script to add a key to a dictionary.\n",
    "\n",
    "d = {'k1':24,'k2':34,'k3':78,'k4':21}\n",
    "\n",
    "d['k5']=150\n",
    "\n",
    "d"
   ]
  },
  {
   "cell_type": "code",
   "execution_count": null,
   "id": "b1cd47fe",
   "metadata": {},
   "outputs": [],
   "source": [
    "d[]\n",
    "d[1]"
   ]
  },
  {
   "cell_type": "code",
   "execution_count": 51,
   "id": "9c612c12",
   "metadata": {},
   "outputs": [
    {
     "data": {
      "text/plain": [
       "{'k1': 24, 'k2': 34, 'k3': 78, 'k4': 21, 'l1': 33, 'l2': 59, 'l3': 44}"
      ]
     },
     "execution_count": 51,
     "metadata": {},
     "output_type": "execute_result"
    }
   ],
   "source": [
    "#3. Write a Python script to concatenate the following dictionaries to create a new one.\n",
    "#Solution1\n",
    "d1 = {'k1':24,'k2':34,'k3':78,'k4':21}\n",
    "d2 = {'l1':33, 'l2':59, 'l3':44}\n",
    "\n",
    "for i,j in d2.items():\n",
    "    d1[i]=j\n",
    "d1"
   ]
  },
  {
   "cell_type": "code",
   "execution_count": 53,
   "id": "16291bd5",
   "metadata": {},
   "outputs": [
    {
     "data": {
      "text/plain": [
       "{'k1': 24, 'k2': 34, 'k3': 78, 'k4': 21, 'l1': 33, 'l2': 59, 'l3': 44}"
      ]
     },
     "execution_count": 53,
     "metadata": {},
     "output_type": "execute_result"
    }
   ],
   "source": [
    "#Solution 2\n",
    "d1 = {'k1':24,'k2':34,'k3':78,'k4':21}\n",
    "d2 = {'l1':33, 'l2':59, 'l3':44}\n",
    "d3 = {}\n",
    "for i,j in d1.items():\n",
    "    d3[i] = j\n",
    "for i,j in d2.items():\n",
    "    d3[i] = j\n",
    "d3"
   ]
  },
  {
   "cell_type": "code",
   "execution_count": 63,
   "id": "dda7118f",
   "metadata": {},
   "outputs": [
    {
     "data": {
      "text/plain": [
       "False"
      ]
     },
     "execution_count": 63,
     "metadata": {},
     "output_type": "execute_result"
    }
   ],
   "source": [
    "#4. Write a Python script to check whether a given key already exists in a dictionary.\n",
    "\n",
    "d1 = {'k1':24,'k2':34,'k3':78,'k4':21}\n",
    "\n",
    "def check_key(d1,n):\n",
    "    if n in d1.keys():\n",
    "        result = True\n",
    "    else:\n",
    "        result = False\n",
    "    return result\n",
    "\n",
    "check_key(d1,'k5')"
   ]
  },
  {
   "cell_type": "code",
   "execution_count": 66,
   "id": "4e02ffd4",
   "metadata": {},
   "outputs": [
    {
     "name": "stdout",
     "output_type": "stream",
     "text": [
      "k1 -> 24\n",
      "k2 -> 34\n",
      "k3 -> 78\n",
      "k4 -> 21\n"
     ]
    }
   ],
   "source": [
    "#5. Write a Python program to iterate over dictionaries using for loops.\n",
    "\n",
    "d1 = {'k1':24,'k2':34,'k3':78,'k4':21}\n",
    "\n",
    "for key,value in d1.items():\n",
    "    print(key,'->',value)"
   ]
  },
  {
   "cell_type": "code",
   "execution_count": 69,
   "id": "d4217d04",
   "metadata": {},
   "outputs": [
    {
     "data": {
      "text/plain": [
       "{1: 1,\n",
       " 2: 4,\n",
       " 3: 9,\n",
       " 4: 16,\n",
       " 5: 25,\n",
       " 6: 36,\n",
       " 7: 49,\n",
       " 8: 64,\n",
       " 9: 81,\n",
       " 10: 100,\n",
       " 11: 121,\n",
       " 12: 144,\n",
       " 13: 169,\n",
       " 14: 196,\n",
       " 15: 225,\n",
       " 16: 256}"
      ]
     },
     "execution_count": 69,
     "metadata": {},
     "output_type": "execute_result"
    }
   ],
   "source": [
    "#6. Write a Python script to generate and print a dictionary that \n",
    "#contains a number (between 1 and n) in the form (x, x*x).\n",
    "\n",
    "def dict_sq(n):\n",
    "    d={}\n",
    "    for i in range(1,n+1):\n",
    "        d[i] = i*i\n",
    "    return d\n",
    "\n",
    "dict_sq(4)\n",
    "\n",
    "#7. Write a Python script to print a dictionary where the keys are numbers between 1 and 15 (both included) \n",
    "#and the values are the square of the keys.\n",
    "\n",
    "dict_sq(16)"
   ]
  },
  {
   "cell_type": "code",
   "execution_count": 71,
   "id": "f5ce6ac6",
   "metadata": {},
   "outputs": [
    {
     "name": "stdout",
     "output_type": "stream",
     "text": [
      "{'k1': 24, 'l1': 33, 'k2': 34, 'l2': 59, 'k3': 78, 'l3': 44}\n"
     ]
    }
   ],
   "source": [
    "#8. Write a Python script to merge two Python dictionaries.\n",
    "\n",
    "d1 = {'k1': 24, 'k2': 34, 'k3': 78, 'k4': 21}\n",
    "d2 = {'l1': 33, 'l2': 59, 'l3': 44}\n",
    "\n",
    "def merge_dict(d1, d2):\n",
    "    d = {}\n",
    "    for key1, key2 in zip(d1, d2):\n",
    "        d[key1] = d1[key1]\n",
    "        d[key2] = d2[key2]\n",
    "    return d\n",
    "\n",
    "merged_dict = merge_dict(d1, d2)\n",
    "print(merged_dict)  \n",
    "    "
   ]
  },
  {
   "cell_type": "code",
   "execution_count": 74,
   "id": "8001cde0",
   "metadata": {},
   "outputs": [
    {
     "data": {
      "text/plain": [
       "{'k1': 'l1', 'k2': 'l2', 'k3': 'l3'}"
      ]
     },
     "execution_count": 74,
     "metadata": {},
     "output_type": "execute_result"
    }
   ],
   "source": [
    "#8. Write a Python script to merge two Python dictionaries.\n",
    "\n",
    "\n",
    "d1 = {'k1': 24, 'k2': 34, 'k3': 78, 'k4': 21}\n",
    "d2 = {'l1': 33, 'l2': 59, 'l3': 44}\n",
    "\n",
    "def merge_dict(d1, d2):\n",
    "    d={}\n",
    "    for key,value in zip(d1,d2):\n",
    "        d[key] = value\n",
    "    return d\n",
    "        \n",
    "merge_dict(d1,d2)\n",
    "\n",
    "#This does not work since for zip you must give key list and value list"
   ]
  },
  {
   "cell_type": "code",
   "execution_count": 75,
   "id": "0dbae1f7",
   "metadata": {},
   "outputs": [
    {
     "name": "stdout",
     "output_type": "stream",
     "text": [
      "{'k1': 24, 'k2': 34, 'k3': 78, 'k4': 21, 'l1': 33, 'l2': 59, 'l3': 44}\n"
     ]
    }
   ],
   "source": [
    "d1 = {'k1': 24, 'k2': 34, 'k3': 78, 'k4': 21}\n",
    "d2 = {'l1': 33, 'l2': 59, 'l3': 44}\n",
    "\n",
    "d = d1.copy()\n",
    "d.update(d2)\n",
    "print(d)"
   ]
  },
  {
   "cell_type": "code",
   "execution_count": 78,
   "id": "f73d0a6c",
   "metadata": {},
   "outputs": [
    {
     "data": {
      "text/plain": [
       "157"
      ]
     },
     "execution_count": 78,
     "metadata": {},
     "output_type": "execute_result"
    }
   ],
   "source": [
    "#10. Write a Python program to sum all the items in a dictionary.\n",
    "\n",
    "d1 = {'k1': 24, 'k2': 34, 'k3': 78, 'k4': 21}\n",
    "\n",
    "def sum_items(d1):\n",
    "    sum_dict = sum(d1.values())\n",
    "    return sum_dict\n",
    "\n",
    "sum_items(d1)"
   ]
  },
  {
   "cell_type": "code",
   "execution_count": 85,
   "id": "cfb7ac35",
   "metadata": {},
   "outputs": [
    {
     "data": {
      "text/plain": [
       "1336608"
      ]
     },
     "execution_count": 85,
     "metadata": {},
     "output_type": "execute_result"
    }
   ],
   "source": [
    "#11. Write a Python program to multiply all the items in a dictionary.\n",
    "\n",
    "d1 = {'k1': 24, 'k2': 34, 'k3': 78, 'k4': 21}\n",
    "\n",
    "def prodt_items(d1):\n",
    "    result = 1\n",
    "    for value in d1.values():\n",
    "        result = result*value\n",
    "    return result\n",
    "\n",
    "prodt_items(d1)"
   ]
  },
  {
   "cell_type": "code",
   "execution_count": 88,
   "id": "2e567061",
   "metadata": {},
   "outputs": [
    {
     "data": {
      "text/plain": [
       "{'k2': 34, 'k3': 78, 'k4': 21}"
      ]
     },
     "execution_count": 88,
     "metadata": {},
     "output_type": "execute_result"
    }
   ],
   "source": [
    "#12. Write a Python program to remove a key from a dictionary.\n",
    "\n",
    "d1 = {'k1': 24, 'k2': 34, 'k3': 78, 'k4': 21}\n",
    "\n",
    "def remove_key(d1,k):\n",
    "    d1.pop(k)\n",
    "    return d1\n",
    "\n",
    "remove_key(d1,'k1')"
   ]
  },
  {
   "cell_type": "code",
   "execution_count": 90,
   "id": "120114dd",
   "metadata": {},
   "outputs": [
    {
     "data": {
      "text/plain": [
       "{1: 1, 2: 4, 3: 9, 4: 16, 5: 25, 6: 36, 7: 49, 8: 64}"
      ]
     },
     "execution_count": 90,
     "metadata": {},
     "output_type": "execute_result"
    }
   ],
   "source": [
    "#13.Write a Python program to map two lists into a dictionary.\n",
    "\n",
    "l1 = [1,2,3,4,5,6,7,8]\n",
    "l2 = [1,4,9,16,25,36,49,64]\n",
    "\n",
    "dict(zip(l1,l2))\n"
   ]
  },
  {
   "cell_type": "code",
   "execution_count": 99,
   "id": "9c0c613b",
   "metadata": {},
   "outputs": [
    {
     "data": {
      "text/plain": [
       "{'k1': 24, 'k2': 34, 'k3': 78, 'k4': 21}"
      ]
     },
     "execution_count": 99,
     "metadata": {},
     "output_type": "execute_result"
    }
   ],
   "source": [
    "#14. Write a Python program to sort a given dictionary by key.\n",
    "\n",
    "d1 = {'k1': 24, 'k2': 34, 'k3': 78, 'k4': 21}\n",
    "d={}\n",
    "sorted_d = sorted(d1.keys())\n",
    "for key in sorted_d:\n",
    "    d[key] = d1[key]\n",
    "\n",
    "d"
   ]
  },
  {
   "cell_type": "code",
   "execution_count": 104,
   "id": "bc9d4163",
   "metadata": {},
   "outputs": [
    {
     "name": "stdout",
     "output_type": "stream",
     "text": [
      "78 & 21\n"
     ]
    }
   ],
   "source": [
    "#15. Write a Python program to get the maximum and minimum values of a dictionary.\n",
    "\n",
    "d1 = {'k1': 24, 'k2': 34, 'k3': 78, 'k4': 21}\n",
    "\n",
    "max_value = max(d1.values())\n",
    "min_value = min(d1.values())\n",
    "\n",
    "print(max_value,'&',min_value)"
   ]
  },
  {
   "cell_type": "code",
   "execution_count": 114,
   "id": "89c09989",
   "metadata": {},
   "outputs": [
    {
     "name": "stdout",
     "output_type": "stream",
     "text": [
      "{'x': 'red', 'y': 'Yellow', 'z': 'Green'}\n"
     ]
    }
   ],
   "source": [
    "#16. Write a Python program to get a dictionary from an object's fields.\n",
    "\n",
    "class dictObj(object):\n",
    "     def __init__(self):\n",
    "            self.x = 'red'\n",
    "            self.y = 'Yellow'\n",
    "            self.z = 'Green'\n",
    "            def do_nothing(self):\n",
    "                pass\n",
    "            \n",
    "test = dictObj()\n",
    "            \n",
    "print(test.__dict__)"
   ]
  },
  {
   "cell_type": "code",
   "execution_count": 119,
   "id": "22578904",
   "metadata": {},
   "outputs": [
    {
     "name": "stdout",
     "output_type": "stream",
     "text": [
      "id1 {'name': ['Sara'], 'class': ['V'], 'subject_integration': ['english, math, science']}\n",
      "id2 {'name': ['David'], 'class': ['V'], 'subject_integration': ['english, math, science']}\n",
      "id3 {'name': ['Sara'], 'class': ['V'], 'subject_integration': ['english, math, science']}\n",
      "id4 {'name': ['Surya'], 'class': ['V'], 'subject_integration': ['english, math, science']}\n",
      "{}\n"
     ]
    }
   ],
   "source": [
    "#17.Write a Python program to remove duplicates from the dictionary.\n",
    "\n",
    "student_data = {'id1': \n",
    "   {'name': ['Sara'], \n",
    "    'class': ['V'], \n",
    "    'subject_integration': ['english, math, science']\n",
    "   },\n",
    " 'id2': \n",
    "  {'name': ['David'], \n",
    "    'class': ['V'], \n",
    "    'subject_integration': ['english, math, science']\n",
    "   },\n",
    " 'id3': \n",
    "    {'name': ['Sara'], \n",
    "    'class': ['V'], \n",
    "    'subject_integration': ['english, math, science']\n",
    "   },\n",
    " 'id4': \n",
    "   {'name': ['Surya'], \n",
    "    'class': ['V'], \n",
    "    'subject_integration': ['english, math, science']\n",
    "   },\n",
    "}\n",
    "\n",
    "result = {}\n",
    "\n",
    "# for key,value in student_data.items():\n",
    "#     print(key,value)\n",
    "#     if value not in result.values():\n",
    "#         result[key] = value\n",
    "\n",
    "print(result)\n",
    "\n",
    "\n",
    "# def remove_duplicates(d1):\n",
    "#     for key,value in d1.items():\n",
    "              \n",
    "student_data['id1']              \n",
    "        "
   ]
  },
  {
   "cell_type": "code",
   "execution_count": 144,
   "id": "2f554572",
   "metadata": {},
   "outputs": [
    {
     "name": "stdout",
     "output_type": "stream",
     "text": [
      "['section1', 'section2']\n",
      "['section3', 'section4']\n",
      "['section5', 'section6']\n",
      "['section7', 'section8']\n"
     ]
    }
   ],
   "source": [
    "student_data = {'id1': \n",
    "   {'name': ['Sara'], \n",
    "    'classes': {'physics': ['section1','section2']}\n",
    "   },\n",
    " 'id2': \n",
    "  {'name': ['David'],\n",
    "   'classes': {'chemistry': ['section3','section4']}\n",
    "   },\n",
    " 'id3': \n",
    "   {'name': ['Sara'], \n",
    "     'classes': {'Math': ['section5','section6']}\n",
    "   },\n",
    " 'id4': \n",
    "   {'name': ['Surya'], \n",
    "    'classes': {'Geography': ['section7','section8']}\n",
    "   }\n",
    "}\n",
    "\n",
    "\n",
    "\n",
    "\n",
    "for key in student_data:\n",
    "    #print(student_data[key]['classes'])\n",
    "    for sub_key in student_data[key]['classes']:\n",
    "        print(student_data[key]['classes'][sub_key])"
   ]
  },
  {
   "cell_type": "code",
   "execution_count": 159,
   "id": "05e28f68",
   "metadata": {},
   "outputs": [
    {
     "name": "stdout",
     "output_type": "stream",
     "text": [
      "dictionary is empty\n"
     ]
    }
   ],
   "source": [
    "#18. Write a Python program to check if a dictionary is empty or not.\n",
    "d=[]\n",
    "if len(d) == 0:\n",
    "    print('dictionary is empty')\n",
    "else:\n",
    "    print('non-empty')"
   ]
  },
  {
   "cell_type": "code",
   "execution_count": 152,
   "id": "ff1e3673",
   "metadata": {},
   "outputs": [
    {
     "data": {
      "text/plain": [
       "5"
      ]
     },
     "execution_count": 152,
     "metadata": {},
     "output_type": "execute_result"
    }
   ],
   "source": [
    "a=5\n",
    "a"
   ]
  },
  {
   "cell_type": "code",
   "execution_count": 155,
   "id": "bd06495f",
   "metadata": {},
   "outputs": [
    {
     "name": "stdout",
     "output_type": "stream",
     "text": [
      "yes\n"
     ]
    }
   ],
   "source": [
    "if a==5:\n",
    "    print('yes')\n",
    "else:\n",
    "    print('no')"
   ]
  },
  {
   "cell_type": "code",
   "execution_count": null,
   "id": "78b17366",
   "metadata": {},
   "outputs": [],
   "source": [
    "d1 = {'a': 100, 'b': 200, 'c':300}\n",
    "d2 = {'a': 300, 'b': 200, 'd':400}\n"
   ]
  },
  {
   "cell_type": "code",
   "execution_count": 162,
   "id": "e55a2d75",
   "metadata": {},
   "outputs": [
    {
     "data": {
      "text/plain": [
       "{'a': 300, 'b': 200, 'c': 300, 'd': 400}"
      ]
     },
     "execution_count": 162,
     "metadata": {},
     "output_type": "execute_result"
    }
   ],
   "source": [
    "#19. Write a Python program to combine two dictionary by adding values for common keys.\n",
    "\n",
    "d1 = {'a': 100, 'b': 200, 'c':300}\n",
    "d2 = {'a': 300, 'b': 200, 'd':400}\n",
    "\n",
    "def combine_dict(d1,d2):\n",
    "    l1=list(d1.keys())+list(d2.keys())\n",
    "    l2=list(d1.values())+list(d2.values())\n",
    "    d={}\n",
    "    for key,value in zip(l1,l2):\n",
    "        d[key]=value\n",
    "    return d\n",
    "\n",
    "combine_dict(d1,d2)"
   ]
  },
  {
   "cell_type": "code",
   "execution_count": 169,
   "id": "5321ce57",
   "metadata": {},
   "outputs": [
    {
     "data": {
      "text/plain": [
       "dict_values(['S009', 'S005', 'S005', 'S007'])"
      ]
     },
     "execution_count": 169,
     "metadata": {},
     "output_type": "execute_result"
    }
   ],
   "source": [
    "#20.Write a Python program to print all distinct values in a dictionary.\n",
    "\n",
    "data = [{\"V\":\"S001\"}, {\"V\": \"S002\"}, {\"VI\": \"S001\"}, {\"VI\": \"S005\"}, {\"VII\":\"S005\"}, {\"V\":\"S009\"},{\"VIII\":\"S007\"}]\n",
    "\n",
    "data2 = {}\n",
    "\n",
    "for x in data:\n",
    "    for key,value in x.items():\n",
    "            data2[key]=value\n",
    "            \n",
    "data2.values()"
   ]
  },
  {
   "cell_type": "code",
   "execution_count": 177,
   "id": "8039e1ce",
   "metadata": {},
   "outputs": [
    {
     "data": {
      "text/plain": [
       "['ab', 'cd']"
      ]
     },
     "execution_count": 177,
     "metadata": {},
     "output_type": "execute_result"
    }
   ],
   "source": [
    "#21. Write a Python program to create and display all combinations of letters, \n",
    "#selecting each letter from a different key in a dictionary.\n",
    "\n",
    "d = {'1':['a','b'], '2':['c','d']}\n",
    "\n",
    "def combination_letters(d):\n",
    "    result = []\n",
    "    for key in d:\n",
    "        result.append(''.join(d[key]))\n",
    "    return result\n",
    "combination_letters(d)    "
   ]
  },
  {
   "cell_type": "code",
   "execution_count": 172,
   "id": "c927006d",
   "metadata": {},
   "outputs": [
    {
     "data": {
      "text/plain": [
       "'ab'"
      ]
     },
     "execution_count": 172,
     "metadata": {},
     "output_type": "execute_result"
    }
   ],
   "source": [
    "''.join(['a','b'])"
   ]
  },
  {
   "cell_type": "code",
   "execution_count": 178,
   "id": "a0a8ff3f",
   "metadata": {},
   "outputs": [
    {
     "name": "stdout",
     "output_type": "stream",
     "text": [
      "ac\n",
      "ad\n",
      "bc\n",
      "bd\n"
     ]
    }
   ],
   "source": [
    "d = {'1': ['a', 'b'], '2': ['c', 'd']}\n",
    "\n",
    "def combinations_letters(d, prefix='', keys=None):\n",
    "    if keys is None:\n",
    "        keys = list(d.keys())\n",
    "    if not keys:\n",
    "        print(prefix)\n",
    "    else:\n",
    "        current_key = keys[0]\n",
    "        for letter in d[current_key]:\n",
    "            combinations_letters(d, prefix + letter, keys[1:])\n",
    "\n",
    "combinations_letters(d)\n",
    "\n",
    "#This uses recursion. We will deal with recursion later"
   ]
  },
  {
   "cell_type": "code",
   "execution_count": 194,
   "id": "c0725142",
   "metadata": {},
   "outputs": [
    {
     "data": {
      "text/plain": [
       "['k1', 'k2', 'k3']"
      ]
     },
     "execution_count": 194,
     "metadata": {},
     "output_type": "execute_result"
    }
   ],
   "source": [
    "#22. Write a Python program to find the highest 3 values of corresponding keys in a dictionary.\n",
    "\n",
    "d1 = {'k1': 24, 'k2': 34, 'k3': 78, 'k4': 21}\n",
    "\n",
    "def highest_three(d1):\n",
    "    highest_three = []\n",
    "    l = list(d1.values())\n",
    "    sorted_l = sorted(l,reverse=True)\n",
    "    for key,value in d1.items():\n",
    "        if value in sorted_l[0:3]:\n",
    "            highest_three.append(key)\n",
    "    return highest_three\n",
    "        \n",
    "highest_three(d1)"
   ]
  },
  {
   "cell_type": "code",
   "execution_count": 200,
   "id": "9fea9812",
   "metadata": {},
   "outputs": [
    {
     "name": "stdout",
     "output_type": "stream",
     "text": [
      "[24, 34, 78, 21]\n"
     ]
    }
   ],
   "source": [
    "#23. Write a Python program to combine values in a list of dictionaries\n",
    "\n",
    "d = [{'item': 'item1', 'amount': 400}, {'item': 'item2', 'amount': 300}, {'item': 'item1', 'amount': 750}]\n",
    "\n",
    "list_values = []\n",
    "for x in d:\n",
    "    for key,value in x.items():\n",
    "        list_values.append(value)\n",
    "     \n",
    "print(l)"
   ]
  },
  {
   "cell_type": "code",
   "execution_count": 201,
   "id": "38244338",
   "metadata": {},
   "outputs": [
    {
     "data": {
      "text/plain": [
       "{'w': 1, '3': 1, 'r': 2, 'e': 2, 's': 1, 'o': 1, 'u': 1, 'c': 1}"
      ]
     },
     "execution_count": 201,
     "metadata": {},
     "output_type": "execute_result"
    }
   ],
   "source": [
    "#24. Write a Python program to create a dictionary from a string.\n",
    "#Note: Track the count of the letters from the string.\n",
    "string = 'w3resource'\n",
    "#Expected output: {'w': 1, '3': 1, 'r': 2, 'e': 2, 's': 1, 'o': 1, 'u': 1, 'c': 1}\n",
    "\n",
    "d={}\n",
    "def create_dict(string):\n",
    "    for char in string:\n",
    "        d[char] = string.count(char)\n",
    "    return d\n",
    "\n",
    "create_dict(string)"
   ]
  },
  {
   "cell_type": "markdown",
   "id": "8cf2563a",
   "metadata": {},
   "source": [
    "Let us see how you count values in lists and dictionaries.\n",
    "\n",
    "You can use count on strings as given string.count(character you want). if you want to know length of string use len function\n",
    "\n",
    "In lists :\n",
    "\n",
    "my_list = [1, 2, 2, 3, 4, 2, 5, 2]\n",
    "\n",
    "count = my_list.count(2)\n",
    "\n",
    "print(count)\n",
    "\n",
    "You can use list.count(character in list)\n",
    "\n",
    "in dictionaries:\n",
    "\n",
    "you can iterate on every element.\n",
    "\n",
    "my_dict = {'a': 1, 'b': 2, 'c': 2, 'd': 3, 'e': 2}\n",
    "\n",
    "count = sum(value == 2 for value in my_dict.values())\n",
    "\n",
    "print(count)"
   ]
  },
  {
   "cell_type": "code",
   "execution_count": 203,
   "id": "08b4ea84",
   "metadata": {},
   "outputs": [
    {
     "data": {
      "text/plain": [
       "1"
      ]
     },
     "execution_count": 203,
     "metadata": {},
     "output_type": "execute_result"
    }
   ],
   "source": [
    "#25. Write a Python program to print a dictionary in table format.\n",
    "\n",
    "d = {'C1':[1,2,3],'C2':[5,6,7],'C3':[9,10,11]}\n",
    "\n",
    "l1 = list(d.keys())\n",
    "l2 = list(d.values())\n",
    "\n",
    "def table_d(d):\n",
    "    for i in l2:\n",
    "        for j in i:\n",
    "            return (j)\n",
    "        \n",
    "table_d(d)"
   ]
  },
  {
   "cell_type": "code",
   "execution_count": 215,
   "id": "f3ec1528",
   "metadata": {},
   "outputs": [
    {
     "name": "stdout",
     "output_type": "stream",
     "text": [
      "{'id': 3, 'success': 3, 'name': 3}\n"
     ]
    }
   ],
   "source": [
    "#26. Write a Python program to count the values associated with a key in a dictionary\n",
    "\n",
    "student = [{'id': 1, 'success': True, 'name': 'Lary'},{'id': 2, 'success': False, 'name': 'Rabi'},{'id': 3, 'success': True, 'name': 'Alex'}]\n",
    "result={}\n",
    "for x in student:\n",
    "    for key,value in x.items():\n",
    "        if key in result:\n",
    "            result[key] += 1\n",
    "        else:\n",
    "            result[key] = 1\n",
    "            \n",
    "print(result)"
   ]
  },
  {
   "cell_type": "code",
   "execution_count": 219,
   "id": "cb00a664",
   "metadata": {},
   "outputs": [
    {
     "name": "stdout",
     "output_type": "stream",
     "text": [
      "6\n",
      "2\n",
      "3\n"
     ]
    }
   ],
   "source": [
    "student = [{'id': 1, 'success': True, 'name': 'Lary'},\n",
    " {'id': 2, 'success': False, 'name': 'Rabi'},\n",
    " {'id': 3, 'success': True, 'name': 'Alex'}]\n",
    "print(sum(d['id'] for d in student))\n",
    "print(sum(1 for d in student if d['success']))\n",
    "names = set()\n",
    "for d in student:\n",
    "    names.add(d['name'])\n",
    "print(len(names))"
   ]
  },
  {
   "cell_type": "code",
   "execution_count": null,
   "id": "e3ec43e5",
   "metadata": {},
   "outputs": [],
   "source": [
    "#sum(expression for variable in data if condition)"
   ]
  },
  {
   "cell_type": "code",
   "execution_count": 232,
   "id": "9be698f2",
   "metadata": {},
   "outputs": [
    {
     "name": "stdout",
     "output_type": "stream",
     "text": [
      "{1: {2: {3: {4: {}}}}}\n"
     ]
    }
   ],
   "source": [
    "#27. Write a Python program to convert a list into a nested dictionary of keys.\n",
    "\n",
    "num_list = [1, 2, 3, 4]\n",
    "new_d = d = {}\n",
    "for name in num_list:\n",
    "    d[name] = {}\n",
    "    d = d[name]\n",
    "print(new_d)"
   ]
  },
  {
   "cell_type": "code",
   "execution_count": 236,
   "id": "634c8063",
   "metadata": {},
   "outputs": [
    {
     "data": {
      "text/plain": [
       "{'n1': [1, 2, 3], 'n2': [1, 2, 5], 'n3': [2, 3, 4]}"
      ]
     },
     "execution_count": 236,
     "metadata": {},
     "output_type": "execute_result"
    }
   ],
   "source": [
    "#28. Write a Python program to sort a list alphabetically in a dictionary.\n",
    "num = {'n1': [2, 3, 1], 'n2': [5, 1, 2], 'n3': [3, 2, 4]}\n",
    "\n",
    "d={}\n",
    "for key,value in num.items():\n",
    "    d[key] = sorted(value)\n",
    "d"
   ]
  },
  {
   "cell_type": "code",
   "execution_count": 246,
   "id": "7ed0366e",
   "metadata": {},
   "outputs": [
    {
     "name": "stdout",
     "output_type": "stream",
     "text": [
      "{'S001': ['Math', 'Science'], 'S002': ['Math', 'English']}\n"
     ]
    }
   ],
   "source": [
    "student_list = {'S  001': ['Math', 'Science'], 'S    002': ['Math', 'English']}\n",
    "\n",
    "new_dict = {}\n",
    "\n",
    "for key, value in student_list.items():\n",
    "    new_key = \"\".join(key.split())\n",
    "    new_dict[new_key] = value\n",
    "\n",
    "print(new_dict)"
   ]
  },
  {
   "cell_type": "code",
   "execution_count": 237,
   "id": "e8e3e549",
   "metadata": {},
   "outputs": [
    {
     "name": "stdout",
     "output_type": "stream",
     "text": [
      "H2ll4, w4rld!\n"
     ]
    }
   ],
   "source": [
    "# Define translation table\n",
    "translation_table = str.maketrans(\"aeiou\", \"12345\")\n",
    "\n",
    "# Original string\n",
    "string = \"Hello, world!\"\n",
    "\n",
    "# Perform translation\n",
    "translated_string = string.translate(translation_table)\n",
    "\n",
    "print(translated_string)  # \"H3ll4, w4rld!\"\n"
   ]
  },
  {
   "cell_type": "code",
   "execution_count": 257,
   "id": "0cf978b6",
   "metadata": {},
   "outputs": [
    {
     "data": {
      "text/plain": [
       "['item1', 'item3', 'item4']"
      ]
     },
     "execution_count": 257,
     "metadata": {},
     "output_type": "execute_result"
    }
   ],
   "source": [
    "#Write a Python program to get the top three items in a shop.\n",
    "d = {'item1': 45.50, 'item2':35, 'item3': 41.30, 'item4': 55, 'item5': 24}\n",
    "top_three_items = []\n",
    "\n",
    "sorted_val = sorted(d.values(),reverse=True)\n",
    "\n",
    "for key,value in d.items():\n",
    "    if value in sorted_val[0:3]:\n",
    "        top_three_items.append(key)\n",
    "\n",
    "top_three_items "
   ]
  },
  {
   "cell_type": "code",
   "execution_count": 261,
   "id": "fee44bb8",
   "metadata": {},
   "outputs": [
    {
     "data": {
      "text/plain": [
       "['item1', 'item3', 'item4']"
      ]
     },
     "execution_count": 261,
     "metadata": {},
     "output_type": "execute_result"
    }
   ],
   "source": [
    "d = {'item1': 45.50, 'item2':35, 'item3': 41.30, 'item4': 55, 'item5': 24}\n",
    "sorted_val = sorted(d.values(),reverse=True)\n",
    "sorted_val[0:3]\n",
    "\n",
    "top_three_items = []\n",
    "for key,value in d.items():\n",
    "    if value >= sorted_val[2]:\n",
    "        top_three_items.append(key)\n",
    "\n",
    "top_three_items"
   ]
  },
  {
   "cell_type": "code",
   "execution_count": 262,
   "id": "4fb1075c",
   "metadata": {},
   "outputs": [
    {
     "data": {
      "text/plain": [
       "['item1', 'item3', 'item4']"
      ]
     },
     "execution_count": 262,
     "metadata": {},
     "output_type": "execute_result"
    }
   ],
   "source": [
    "# Write a Python program to find the highest 3 values of corresponding keys in a dictionary.\n",
    "\n",
    "d1 = {'item1': 45.50, 'item2':35, 'item3': 41.30, 'item4': 55, 'item5': 24}\n",
    "\n",
    "def highest_three(d1):\n",
    "    highest_three = []\n",
    "    l = list(d1.values())\n",
    "    sorted_l = sorted(l,reverse=True)\n",
    "    for key,value in d1.items():\n",
    "        if value in sorted_l[0:3]:\n",
    "            highest_three.append(key)\n",
    "    return highest_three\n",
    "        \n",
    "highest_three(d1)"
   ]
  },
  {
   "cell_type": "code",
   "execution_count": 264,
   "id": "eafb5820",
   "metadata": {},
   "outputs": [
    {
     "name": "stdout",
     "output_type": "stream",
     "text": [
      "dict_keys(['item1', 'item2', 'item3', 'item4', 'item5'])\n",
      "dict_values([45.5, 35, 41.3, 55, 24])\n",
      "dict_items([('item1', 45.5), ('item2', 35), ('item3', 41.3), ('item4', 55), ('item5', 24)])\n"
     ]
    }
   ],
   "source": [
    "#31. Write a Python program to get the key, value and item in a dictionary.\n",
    "\n",
    "d1 = {'item1': 45.50, 'item2':35, 'item3': 41.30, 'item4': 55, 'item5': 24}\n",
    "\n",
    "print(d1.keys())\n",
    "print(d1.values())\n",
    "print(d1.items())"
   ]
  },
  {
   "cell_type": "code",
   "execution_count": 265,
   "id": "00d5501e",
   "metadata": {},
   "outputs": [
    {
     "name": "stdout",
     "output_type": "stream",
     "text": [
      "Aex\n",
      "class V\n",
      "rolld_id 2\n",
      "Puja\n",
      "class V\n",
      "roll_id 3\n"
     ]
    }
   ],
   "source": [
    "#32. Write a Python program to print a dictionary line by line.\n",
    "\n",
    "students = {'Aex':{'class':'V',\n",
    "        'rolld_id':2},\n",
    "        'Puja':{'class':'V',\n",
    "        'roll_id':3}}\n",
    "\n",
    "for key,value in students.items():\n",
    "    print(key)\n",
    "    for a,b in value.items():\n",
    "        print(a,b)"
   ]
  },
  {
   "cell_type": "code",
   "execution_count": 267,
   "id": "f1d46732",
   "metadata": {},
   "outputs": [
    {
     "name": "stdout",
     "output_type": "stream",
     "text": [
      "True\n",
      "False\n",
      "True\n"
     ]
    }
   ],
   "source": [
    "#33. Write a Python program to check if multiple keys exist in a dictionary.\n",
    "\n",
    "student = {\n",
    "  'name': 'Alex',\n",
    "  'class': 'V',\n",
    "  'roll_id': '2'\n",
    "}\n",
    "\n",
    "print(student.keys() >= {'class', 'name'})\n",
    "print(student.keys() >= {'name', 'Alex'})\n",
    "print(student.keys() >= {'roll_id', 'name'})"
   ]
  },
  {
   "cell_type": "code",
   "execution_count": null,
   "id": "63762b70",
   "metadata": {},
   "outputs": [],
   "source": []
  }
 ],
 "metadata": {
  "kernelspec": {
   "display_name": "Python 3 (ipykernel)",
   "language": "python",
   "name": "python3"
  },
  "language_info": {
   "codemirror_mode": {
    "name": "ipython",
    "version": 3
   },
   "file_extension": ".py",
   "mimetype": "text/x-python",
   "name": "python",
   "nbconvert_exporter": "python",
   "pygments_lexer": "ipython3",
   "version": "3.9.13"
  }
 },
 "nbformat": 4,
 "nbformat_minor": 5
}
